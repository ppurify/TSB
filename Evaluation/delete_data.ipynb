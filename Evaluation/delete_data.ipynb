{
 "cells": [
  {
   "cell_type": "code",
   "execution_count": null,
   "metadata": {},
   "outputs": [],
   "source": [
    "import os\n",
    "import re\n",
    "\n",
    "# Define a pattern to match filenames with numbers between underscore and 'rep'\n",
    "pattern = re.compile(r'_(\\d+)rep')\n",
    "\n",
    "# Specify the folder path\n",
    "folder_path = 'Results'\n",
    "\n",
    "# create list 1 to 12 number\n",
    "list_number = list(range(1,13))\n",
    "\n",
    "# Iterate through files in the folder\n",
    "for root, dirs, files in os.walk(folder_path):\n",
    "    for file in files:\n",
    "        file_path = os.path.join(root, file)\n",
    "        match = pattern.search(file)\n",
    "        number_before_rep = match.group(1)\n",
    "        \n",
    "        # check number_before_rep in list_number\n",
    "        if int(number_before_rep) in list_number:\n",
    "            print(f\"file_path: {file_path}, Number before 'rep': {number_before_rep}\")\n",
    "            os.remove(file_path)"
   ]
  }
 ],
 "metadata": {
  "kernelspec": {
   "display_name": "purify",
   "language": "python",
   "name": "python3"
  },
  "language_info": {
   "name": "python",
   "version": "3.11.2"
  }
 },
 "nbformat": 4,
 "nbformat_minor": 2
}
