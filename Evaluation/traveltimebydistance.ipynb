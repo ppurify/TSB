{
 "cells": [
  {
   "cell_type": "code",
   "execution_count": 2,
   "metadata": {},
   "outputs": [],
   "source": [
    "import pandas as pd\n",
    "import os\n"
   ]
  },
  {
   "cell_type": "code",
   "execution_count": 47,
   "metadata": {},
   "outputs": [
    {
     "name": "stdout",
     "output_type": "stream",
     "text": [
      "folder :  prev_10_now_10\n",
      "folder :  prev_10_now_15\n",
      "folder :  prev_15_now_15\n",
      "folder :  prev_15_now_20\n",
      "folder :  prev_20_now_20\n",
      "folder :  prev_20_now_20_1\n",
      "folder :  prev_20_now_25\n",
      "folder :  prev_20_now_25_1\n",
      "folder :  prev_25_now_25\n",
      "folder :  prev_25_now_25_1\n",
      "folder :  prev_25_now_30\n",
      "folder :  prev_25_now_30_1\n",
      "folder :  prev_30_now_30\n",
      "folder :  prev_30_now_30_1\n",
      "folder :  prev_5_now_10\n",
      "folder :  prev_5_now_5\n"
     ]
    }
   ],
   "source": [
    "folder_path = 'prev_results'\n",
    "save_folder_path = 'Results'\n",
    "\n",
    "    \n",
    "for folder_name in os.listdir(folder_path):\n",
    "    if not folder_name.endswith('.meta'):\n",
    "        print('folder : ', folder_name)\n",
    "\n",
    "        for file_name in os.listdir(os.path.join(folder_path, folder_name)):\n",
    "            if file_name.endswith('.csv'):\n",
    "                file_path = os.path.join(folder_path, folder_name, file_name)\n",
    "                df = pd.read_csv(file_path)\n",
    "            \n",
    "                path_length = (df['Completion_Time']/df['CompletionTime_by_Distance']).round().tolist()\n",
    "                df.insert(df.columns.get_loc('CompletionTime_by_Distance'), 'Path_length', path_length)\n",
    "                travelTime_by_distance = (df['Completion_Time'] - 300) /df['Path_length'].tolist()\n",
    "                df.insert(df.columns.get_loc('CompletionTime_by_Distance'), 'TravelTime_by_Distance', travelTime_by_distance)\n",
    "                \n",
    "                file_name_without_csv = file_name.replace(\".csv\", \"\")\n",
    "                new_folder_path = os.path.join(save_folder_path, folder_name)\n",
    "                new_file_path = os.path.join(new_folder_path, f'{file_name_without_csv}.csv')\n",
    "                \n",
    "                \n",
    "                # Check if the directory exists\n",
    "                if not os.path.exists(new_folder_path):\n",
    "                    # If not, create the directory\n",
    "                    os.makedirs(new_folder_path)\n",
    "                    \n",
    "                if not os.path.exists(new_file_path):\n",
    "                    df.to_csv(new_file_path, index=False)\n",
    "                else:\n",
    "                    print(f'{new_file_path} already exists')\n",
    "                 "
   ]
  },
  {
   "cell_type": "code",
   "execution_count": null,
   "metadata": {},
   "outputs": [],
   "source": []
  }
 ],
 "metadata": {
  "kernelspec": {
   "display_name": "purify",
   "language": "python",
   "name": "python3"
  },
  "language_info": {
   "codemirror_mode": {
    "name": "ipython",
    "version": 3
   },
   "file_extension": ".py",
   "mimetype": "text/x-python",
   "name": "python",
   "nbconvert_exporter": "python",
   "pygments_lexer": "ipython3",
   "version": "3.11.2"
  },
  "orig_nbformat": 4
 },
 "nbformat": 4,
 "nbformat_minor": 2
}
