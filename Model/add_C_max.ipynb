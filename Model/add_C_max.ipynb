{
 "cells": [
  {
   "cell_type": "code",
   "execution_count": 2,
   "metadata": {},
   "outputs": [],
   "source": [
    "import os\n",
    "import re\n",
    "import pandas as pd"
   ]
  },
  {
   "cell_type": "code",
   "execution_count": 11,
   "metadata": {},
   "outputs": [
    {
     "name": "stdout",
     "output_type": "stream",
     "text": [
      "                              File_name Type    C_max     C_avg\n",
      "0    prev_Truck_20_LP_0_0_100_10rep.csv  Max  487.432  433.1844\n",
      "1     now_Truck_20_LP_0_0_100_10rep.csv  Max  512.512  448.3916\n",
      "2    prev_Truck_20_LP_0_0_100_11rep.csv  Max  482.400  436.1644\n",
      "3     now_Truck_20_LP_0_0_100_11rep.csv  Max  465.632  420.1980\n",
      "4    prev_Truck_20_LP_0_0_100_12rep.csv  Max  497.048  434.8400\n",
      "..                                  ...  ...      ...       ...\n",
      "235   now_Truck_20_LP_40_50_10_7rep.csv  Min  431.848  385.6760\n",
      "236  prev_Truck_20_LP_40_50_10_8rep.csv  Min  419.640  385.6288\n",
      "237   now_Truck_20_LP_40_50_10_8rep.csv  Min  466.832  386.6352\n",
      "238  prev_Truck_20_LP_40_50_10_9rep.csv  Min  398.320  374.5036\n",
      "239   now_Truck_20_LP_40_50_10_9rep.csv  Min  406.800  374.6804\n",
      "\n",
      "[240 rows x 4 columns]\n"
     ]
    }
   ],
   "source": [
    "import os\n",
    "import re\n",
    "import pandas as pd\n",
    "\n",
    "folder_path = '../Simulation/Assets/Results/Correlation_cost_completiontime_modidied_A_ver'\n",
    "\n",
    "column_name = ['File_name', 'Type',  'C_max', 'C_avg']\n",
    "values = []\n",
    "\n",
    "# get folder\n",
    "for folder_name in os.listdir(folder_path):\n",
    "    if not folder_name.endswith('meta'):\n",
    "        cost_type = folder_name.split('_')[-1]\n",
    "        if not cost_type[0].isupper():\n",
    "            cost_type = cost_type[0].upper() + cost_type[1:]\n",
    "\n",
    "        # get files in folder\n",
    "        folder_full_path = os.path.join(folder_path, folder_name)\n",
    "\n",
    "        # Iterate over files in the folder\n",
    "        for file_name in os.listdir(folder_full_path):\n",
    "            if not file_name.endswith('meta'):\n",
    "                # 정규 표현식을 사용하여 'prev'와 'now'를 기준으로 파일 이름 분리\n",
    "                match = re.match(r'result_(prev.*?)_with_(now.*?)\\.csv', file_name)\n",
    "                if match:\n",
    "                    prev_part  = match.group(1)\n",
    "                    now_part = match.group(2) + '.csv'\n",
    "\n",
    "                    # \"RoutePoints\"를 \"Truck\"으로 바꿈\n",
    "                    prev_file_name = prev_part.replace(\"RoutePoints\", \"Truck\")\n",
    "                    now_file_name = now_part.replace(\"RoutePoints\", \"Truck\")\n",
    "\n",
    "                    # read csv file\n",
    "                    file_full_path = os.path.join(folder_full_path, file_name)\n",
    "                    df = pd.read_csv(file_full_path)\n",
    "                    # print(df.columns)\n",
    "                    c_max_prev = df['C_max_prev'][0]\n",
    "                    c_max_now = df['C_max_now'][0]\n",
    "\n",
    "                    c_avg_prev = df.loc[df['Truck_id'].str[6:].astype(int)<100, 'Completion_Time'].mean()\n",
    "                    c_avg_now = df.loc[df['Truck_id'].str[6:].astype(int)>=100, 'Completion_Time'].mean()\n",
    "\n",
    "                    # Append values to the list\n",
    "                    prev_value = [prev_file_name, cost_type, c_max_prev, c_avg_prev]\n",
    "                    values.append(prev_value)\n",
    "                    now_value = [now_file_name, cost_type, c_max_now, c_avg_now]\n",
    "                    values.append(now_value)\n",
    "\n",
    "# create dataframe\n",
    "cost_type_df = pd.DataFrame(values, columns=column_name)\n",
    "print(cost_type_df)\n"
   ]
  },
  {
   "cell_type": "code",
   "execution_count": 12,
   "metadata": {},
   "outputs": [
    {
     "data": {
      "text/html": [
       "<div>\n",
       "<style scoped>\n",
       "    .dataframe tbody tr th:only-of-type {\n",
       "        vertical-align: middle;\n",
       "    }\n",
       "\n",
       "    .dataframe tbody tr th {\n",
       "        vertical-align: top;\n",
       "    }\n",
       "\n",
       "    .dataframe thead th {\n",
       "        text-align: right;\n",
       "    }\n",
       "</style>\n",
       "<table border=\"1\" class=\"dataframe\">\n",
       "  <thead>\n",
       "    <tr style=\"text-align: right;\">\n",
       "      <th></th>\n",
       "      <th>File_name</th>\n",
       "      <th>Type</th>\n",
       "      <th>C_max</th>\n",
       "      <th>C_avg</th>\n",
       "    </tr>\n",
       "  </thead>\n",
       "  <tbody>\n",
       "    <tr>\n",
       "      <th>20</th>\n",
       "      <td>prev_Truck_20_LP_0_0_100_1rep.csv</td>\n",
       "      <td>Max</td>\n",
       "      <td>479.992</td>\n",
       "      <td>425.8480</td>\n",
       "    </tr>\n",
       "    <tr>\n",
       "      <th>100</th>\n",
       "      <td>prev_Truck_20_LP_0_0_100_1rep.csv</td>\n",
       "      <td>Middle</td>\n",
       "      <td>456.280</td>\n",
       "      <td>406.4500</td>\n",
       "    </tr>\n",
       "    <tr>\n",
       "      <th>180</th>\n",
       "      <td>prev_Truck_20_LP_0_0_100_1rep.csv</td>\n",
       "      <td>Min</td>\n",
       "      <td>407.896</td>\n",
       "      <td>377.6852</td>\n",
       "    </tr>\n",
       "  </tbody>\n",
       "</table>\n",
       "</div>"
      ],
      "text/plain": [
       "                             File_name    Type    C_max     C_avg\n",
       "20   prev_Truck_20_LP_0_0_100_1rep.csv     Max  479.992  425.8480\n",
       "100  prev_Truck_20_LP_0_0_100_1rep.csv  Middle  456.280  406.4500\n",
       "180  prev_Truck_20_LP_0_0_100_1rep.csv     Min  407.896  377.6852"
      ]
     },
     "execution_count": 12,
     "metadata": {},
     "output_type": "execute_result"
    }
   ],
   "source": [
    "cost_type_df[cost_type_df['File_name'] == 'prev_Truck_20_LP_0_0_100_1rep.csv']"
   ]
  },
  {
   "cell_type": "code",
   "execution_count": 13,
   "metadata": {},
   "outputs": [
    {
     "name": "stdout",
     "output_type": "stream",
     "text": [
      "                               File_name    Type  Objective_value\n",
      "0      prev_Truck_20_LP_0_0_100_1rep.csv     Min            63800\n",
      "1       now_Truck_20_LP_0_0_100_1rep.csv     Min            68000\n",
      "2     prev_Truck_20_LP_40_50_10_1rep.csv     Min            34751\n",
      "3      now_Truck_20_LP_40_50_10_1rep.csv     Min            34924\n",
      "4      prev_Truck_20_LP_0_0_100_1rep.csv  Middle            98400\n",
      "..                                   ...     ...              ...\n",
      "235   now_Truck_20_LP_40_50_10_20rep.csv  Middle            48319\n",
      "236   prev_Truck_20_LP_0_0_100_20rep.csv     Max           112800\n",
      "237    now_Truck_20_LP_0_0_100_20rep.csv     Max           115600\n",
      "238  prev_Truck_20_LP_40_50_10_20rep.csv     Max            59834\n",
      "239   now_Truck_20_LP_40_50_10_20rep.csv     Max            62918\n",
      "\n",
      "[240 rows x 3 columns]\n"
     ]
    }
   ],
   "source": [
    "original_file_name = 'C:\\\\Users\\\\USER\\\\workspace\\\\TSB\\\\Model\\\\corrlation_data_modified_ver_edited.csv'\n",
    "\n",
    "original_df = pd.read_csv(original_file_name)\n",
    "\n",
    "\n",
    "# type열 공백제거\n",
    "original_df['Type'] = original_df['Type'].str.strip()\n",
    "print(original_df)"
   ]
  },
  {
   "cell_type": "code",
   "execution_count": 14,
   "metadata": {},
   "outputs": [
    {
     "data": {
      "text/html": [
       "<div>\n",
       "<style scoped>\n",
       "    .dataframe tbody tr th:only-of-type {\n",
       "        vertical-align: middle;\n",
       "    }\n",
       "\n",
       "    .dataframe tbody tr th {\n",
       "        vertical-align: top;\n",
       "    }\n",
       "\n",
       "    .dataframe thead th {\n",
       "        text-align: right;\n",
       "    }\n",
       "</style>\n",
       "<table border=\"1\" class=\"dataframe\">\n",
       "  <thead>\n",
       "    <tr style=\"text-align: right;\">\n",
       "      <th></th>\n",
       "      <th>File_name</th>\n",
       "      <th>Type</th>\n",
       "      <th>Objective_value</th>\n",
       "    </tr>\n",
       "  </thead>\n",
       "  <tbody>\n",
       "    <tr>\n",
       "      <th>0</th>\n",
       "      <td>prev_Truck_20_LP_0_0_100_1rep.csv</td>\n",
       "      <td>Min</td>\n",
       "      <td>63800</td>\n",
       "    </tr>\n",
       "    <tr>\n",
       "      <th>4</th>\n",
       "      <td>prev_Truck_20_LP_0_0_100_1rep.csv</td>\n",
       "      <td>Middle</td>\n",
       "      <td>98400</td>\n",
       "    </tr>\n",
       "    <tr>\n",
       "      <th>8</th>\n",
       "      <td>prev_Truck_20_LP_0_0_100_1rep.csv</td>\n",
       "      <td>Max</td>\n",
       "      <td>119600</td>\n",
       "    </tr>\n",
       "  </tbody>\n",
       "</table>\n",
       "</div>"
      ],
      "text/plain": [
       "                           File_name    Type  Objective_value\n",
       "0  prev_Truck_20_LP_0_0_100_1rep.csv     Min            63800\n",
       "4  prev_Truck_20_LP_0_0_100_1rep.csv  Middle            98400\n",
       "8  prev_Truck_20_LP_0_0_100_1rep.csv     Max           119600"
      ]
     },
     "execution_count": 14,
     "metadata": {},
     "output_type": "execute_result"
    }
   ],
   "source": [
    "original_df[original_df['File_name'] == 'prev_Truck_20_LP_0_0_100_1rep.csv']"
   ]
  },
  {
   "cell_type": "code",
   "execution_count": 15,
   "metadata": {},
   "outputs": [
    {
     "name": "stdout",
     "output_type": "stream",
     "text": [
      "                               File_name    Type  Objective_value    C_max  \\\n",
      "0      prev_Truck_20_LP_0_0_100_1rep.csv     Min            63800  407.896   \n",
      "1       now_Truck_20_LP_0_0_100_1rep.csv     Min            68000  424.416   \n",
      "2     prev_Truck_20_LP_40_50_10_1rep.csv     Min            34751  404.464   \n",
      "3      now_Truck_20_LP_40_50_10_1rep.csv     Min            34924  426.384   \n",
      "4      prev_Truck_20_LP_0_0_100_1rep.csv  Middle            98400  456.280   \n",
      "..                                   ...     ...              ...      ...   \n",
      "235   now_Truck_20_LP_40_50_10_20rep.csv  Middle            48319  465.496   \n",
      "236   prev_Truck_20_LP_0_0_100_20rep.csv     Max           112800  501.624   \n",
      "237    now_Truck_20_LP_0_0_100_20rep.csv     Max           115600  515.896   \n",
      "238  prev_Truck_20_LP_40_50_10_20rep.csv     Max            59834  500.584   \n",
      "239   now_Truck_20_LP_40_50_10_20rep.csv     Max            62918  534.880   \n",
      "\n",
      "        C_avg  \n",
      "0    377.6852  \n",
      "1    373.7180  \n",
      "2    372.8872  \n",
      "3    371.5628  \n",
      "4    406.4500  \n",
      "..        ...  \n",
      "235  414.0964  \n",
      "236  435.0436  \n",
      "237  429.9160  \n",
      "238  435.3116  \n",
      "239  429.0408  \n",
      "\n",
      "[240 rows x 5 columns]\n"
     ]
    }
   ],
   "source": [
    "# 'File_name'과 'Type'이 같은 행끼리 병합\n",
    "merged_df = pd.merge(original_df, cost_type_df, on=['File_name', 'Type'], how='inner')\n",
    "print(merged_df)"
   ]
  },
  {
   "cell_type": "code",
   "execution_count": 16,
   "metadata": {},
   "outputs": [
    {
     "data": {
      "text/html": [
       "<div>\n",
       "<style scoped>\n",
       "    .dataframe tbody tr th:only-of-type {\n",
       "        vertical-align: middle;\n",
       "    }\n",
       "\n",
       "    .dataframe tbody tr th {\n",
       "        vertical-align: top;\n",
       "    }\n",
       "\n",
       "    .dataframe thead th {\n",
       "        text-align: right;\n",
       "    }\n",
       "</style>\n",
       "<table border=\"1\" class=\"dataframe\">\n",
       "  <thead>\n",
       "    <tr style=\"text-align: right;\">\n",
       "      <th></th>\n",
       "      <th>File_name</th>\n",
       "      <th>Type</th>\n",
       "      <th>Objective_value</th>\n",
       "      <th>C_max</th>\n",
       "      <th>C_avg</th>\n",
       "    </tr>\n",
       "  </thead>\n",
       "  <tbody>\n",
       "    <tr>\n",
       "      <th>0</th>\n",
       "      <td>prev_Truck_20_LP_0_0_100_1rep.csv</td>\n",
       "      <td>Min</td>\n",
       "      <td>63800</td>\n",
       "      <td>407.896</td>\n",
       "      <td>377.6852</td>\n",
       "    </tr>\n",
       "    <tr>\n",
       "      <th>4</th>\n",
       "      <td>prev_Truck_20_LP_0_0_100_1rep.csv</td>\n",
       "      <td>Middle</td>\n",
       "      <td>98400</td>\n",
       "      <td>456.280</td>\n",
       "      <td>406.4500</td>\n",
       "    </tr>\n",
       "    <tr>\n",
       "      <th>8</th>\n",
       "      <td>prev_Truck_20_LP_0_0_100_1rep.csv</td>\n",
       "      <td>Max</td>\n",
       "      <td>119600</td>\n",
       "      <td>479.992</td>\n",
       "      <td>425.8480</td>\n",
       "    </tr>\n",
       "  </tbody>\n",
       "</table>\n",
       "</div>"
      ],
      "text/plain": [
       "                           File_name    Type  Objective_value    C_max  \\\n",
       "0  prev_Truck_20_LP_0_0_100_1rep.csv     Min            63800  407.896   \n",
       "4  prev_Truck_20_LP_0_0_100_1rep.csv  Middle            98400  456.280   \n",
       "8  prev_Truck_20_LP_0_0_100_1rep.csv     Max           119600  479.992   \n",
       "\n",
       "      C_avg  \n",
       "0  377.6852  \n",
       "4  406.4500  \n",
       "8  425.8480  "
      ]
     },
     "execution_count": 16,
     "metadata": {},
     "output_type": "execute_result"
    }
   ],
   "source": [
    "merged_df[merged_df['File_name'] == 'prev_Truck_20_LP_0_0_100_1rep.csv']"
   ]
  },
  {
   "cell_type": "code",
   "execution_count": 17,
   "metadata": {},
   "outputs": [],
   "source": [
    "# dataframe to csv\n",
    "merged_df.to_csv('correlation_data_with_C_max_modified_ver.csv', index=False)"
   ]
  }
 ],
 "metadata": {
  "kernelspec": {
   "display_name": "purify",
   "language": "python",
   "name": "python3"
  },
  "language_info": {
   "codemirror_mode": {
    "name": "ipython",
    "version": 3
   },
   "file_extension": ".py",
   "mimetype": "text/x-python",
   "name": "python",
   "nbconvert_exporter": "python",
   "pygments_lexer": "ipython3",
   "version": "3.7.16"
  }
 },
 "nbformat": 4,
 "nbformat_minor": 2
}
