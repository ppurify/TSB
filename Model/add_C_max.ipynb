{
 "cells": [
  {
   "cell_type": "code",
   "execution_count": 2,
   "metadata": {},
   "outputs": [],
   "source": [
    "import os\n",
    "import re\n",
    "import pandas as pd"
   ]
  },
  {
   "cell_type": "code",
   "execution_count": 2,
   "metadata": {},
   "outputs": [
    {
     "name": "stdout",
     "output_type": "stream",
     "text": [
      "                               File_name Type    C_max     C_avg\n",
      "0    prev_Truck_20_LP_40_50_10_10rep.csv  Max  544.080  438.8640\n",
      "1     now_Truck_20_LP_40_50_10_10rep.csv  Max  500.872  445.4996\n",
      "2    prev_Truck_20_LP_40_50_10_11rep.csv  Max  488.016  432.9184\n",
      "3     now_Truck_20_LP_40_50_10_11rep.csv  Max  489.456  429.3140\n",
      "4    prev_Truck_20_LP_40_50_10_12rep.csv  Max  492.272  440.7772\n",
      "..                                   ...  ...      ...       ...\n",
      "115    now_Truck_20_LP_40_50_10_7rep.csv  Min  422.712  377.1476\n",
      "116   prev_Truck_20_LP_40_50_10_8rep.csv  Min  425.624  385.2244\n",
      "117    now_Truck_20_LP_40_50_10_8rep.csv  Min  409.768  367.6772\n",
      "118   prev_Truck_20_LP_40_50_10_9rep.csv  Min  404.680  377.3072\n",
      "119    now_Truck_20_LP_40_50_10_9rep.csv  Min  450.768  373.1424\n",
      "\n",
      "[120 rows x 4 columns]\n"
     ]
    }
   ],
   "source": [
    "import os\n",
    "import re\n",
    "import pandas as pd\n",
    "\n",
    "folder_path = '../Simulation/Assets/Results/Correlation_between_obj_and_Cmax'\n",
    "\n",
    "column_name = ['File_name', 'Type',  'C_max', 'C_avg']\n",
    "values = []\n",
    "\n",
    "# get folder\n",
    "for folder_name in os.listdir(folder_path):\n",
    "    if not folder_name.endswith('meta'):\n",
    "        cost_type = folder_name.split('_')[-1]\n",
    "        if not cost_type[0].isupper():\n",
    "            cost_type = cost_type[0].upper() + cost_type[1:]\n",
    "\n",
    "        # get files in folder\n",
    "        folder_full_path = os.path.join(folder_path, folder_name)\n",
    "\n",
    "        # Iterate over files in the folder\n",
    "        for file_name in os.listdir(folder_full_path):\n",
    "            if not file_name.endswith('meta'):\n",
    "                # 정규 표현식을 사용하여 'prev'와 'now'를 기준으로 파일 이름 분리\n",
    "                match = re.match(r'result_(prev.*?)_with_(now.*?)\\.csv', file_name)\n",
    "                if match:\n",
    "                    prev_part  = match.group(1)\n",
    "                    now_part = match.group(2) + '.csv'\n",
    "\n",
    "                    # \"RoutePoints\"를 \"Truck\"으로 바꿈\n",
    "                    prev_file_name = prev_part.replace(\"RoutePoints\", \"Truck\")\n",
    "                    now_file_name = now_part.replace(\"RoutePoints\", \"Truck\")\n",
    "\n",
    "                    # read csv file\n",
    "                    file_full_path = os.path.join(folder_full_path, file_name)\n",
    "                    df = pd.read_csv(file_full_path)\n",
    "                    # print(df.columns)\n",
    "                    c_max_prev = df['C_max_prev'][0]\n",
    "                    c_max_now = df['C_max_now'][0]\n",
    "\n",
    "                    c_avg_prev = df.loc[df['Truck_id'].str[6:].astype(int)<100, 'Completion_Time'].mean()\n",
    "                    c_avg_now = df.loc[df['Truck_id'].str[6:].astype(int)>=100, 'Completion_Time'].mean()\n",
    "\n",
    "                    # Append values to the list\n",
    "                    prev_value = [prev_file_name, cost_type, c_max_prev, c_avg_prev]\n",
    "                    values.append(prev_value)\n",
    "                    now_value = [now_file_name, cost_type, c_max_now, c_avg_now]\n",
    "                    values.append(now_value)\n",
    "\n",
    "# create dataframe\n",
    "cost_type_df = pd.DataFrame(values, columns=column_name)\n",
    "print(cost_type_df)\n"
   ]
  },
  {
   "cell_type": "code",
   "execution_count": 4,
   "metadata": {},
   "outputs": [
    {
     "data": {
      "text/html": [
       "<div>\n",
       "<style scoped>\n",
       "    .dataframe tbody tr th:only-of-type {\n",
       "        vertical-align: middle;\n",
       "    }\n",
       "\n",
       "    .dataframe tbody tr th {\n",
       "        vertical-align: top;\n",
       "    }\n",
       "\n",
       "    .dataframe thead th {\n",
       "        text-align: right;\n",
       "    }\n",
       "</style>\n",
       "<table border=\"1\" class=\"dataframe\">\n",
       "  <thead>\n",
       "    <tr style=\"text-align: right;\">\n",
       "      <th></th>\n",
       "      <th>File_name</th>\n",
       "      <th>Type</th>\n",
       "      <th>C_max</th>\n",
       "      <th>C_avg</th>\n",
       "    </tr>\n",
       "  </thead>\n",
       "  <tbody>\n",
       "    <tr>\n",
       "      <th>20</th>\n",
       "      <td>prev_Truck_20_LP_40_50_10_1rep.csv</td>\n",
       "      <td>Max</td>\n",
       "      <td>498.736</td>\n",
       "      <td>431.6212</td>\n",
       "    </tr>\n",
       "    <tr>\n",
       "      <th>60</th>\n",
       "      <td>prev_Truck_20_LP_40_50_10_1rep.csv</td>\n",
       "      <td>Middle</td>\n",
       "      <td>480.920</td>\n",
       "      <td>416.0424</td>\n",
       "    </tr>\n",
       "    <tr>\n",
       "      <th>100</th>\n",
       "      <td>prev_Truck_20_LP_40_50_10_1rep.csv</td>\n",
       "      <td>Min</td>\n",
       "      <td>420.216</td>\n",
       "      <td>388.5020</td>\n",
       "    </tr>\n",
       "  </tbody>\n",
       "</table>\n",
       "</div>"
      ],
      "text/plain": [
       "                              File_name    Type    C_max     C_avg\n",
       "20   prev_Truck_20_LP_40_50_10_1rep.csv     Max  498.736  431.6212\n",
       "60   prev_Truck_20_LP_40_50_10_1rep.csv  Middle  480.920  416.0424\n",
       "100  prev_Truck_20_LP_40_50_10_1rep.csv     Min  420.216  388.5020"
      ]
     },
     "execution_count": 4,
     "metadata": {},
     "output_type": "execute_result"
    }
   ],
   "source": [
    "cost_type_df[cost_type_df['File_name'] == 'prev_Truck_20_LP_40_50_10_1rep.csv']"
   ]
  },
  {
   "cell_type": "code",
   "execution_count": 6,
   "metadata": {},
   "outputs": [
    {
     "name": "stdout",
     "output_type": "stream",
     "text": [
      "                               File_name    Type  Objective_value\n",
      "0     prev_Truck_20_LP_40_50_10_1rep.csv     Min            25570\n",
      "1      now_Truck_20_LP_40_50_10_1rep.csv     Min            22648\n",
      "2     prev_Truck_20_LP_40_50_10_1rep.csv  Middle            37926\n",
      "3      now_Truck_20_LP_40_50_10_1rep.csv  Middle            37414\n",
      "4     prev_Truck_20_LP_40_50_10_1rep.csv     Max            44443\n",
      "..                                   ...     ...              ...\n",
      "115   now_Truck_20_LP_40_50_10_20rep.csv     Min            19611\n",
      "116  prev_Truck_20_LP_40_50_10_20rep.csv  Middle            37708\n",
      "117   now_Truck_20_LP_40_50_10_20rep.csv  Middle            33296\n",
      "118  prev_Truck_20_LP_40_50_10_20rep.csv     Max            43890\n",
      "119   now_Truck_20_LP_40_50_10_20rep.csv     Max            41181\n",
      "\n",
      "[120 rows x 3 columns]\n"
     ]
    }
   ],
   "source": [
    "original_file_name = 'C:\\\\Users\\\\USER\\\\workspace\\\\TSB\\\\Model\\\\correlation_between_obj_and_Cmax.csv'\n",
    "\n",
    "original_df = pd.read_csv(original_file_name)\n",
    "\n",
    "\n",
    "# type열 공백제거\n",
    "original_df['Type'] = original_df['Type'].str.strip()\n",
    "print(original_df)"
   ]
  },
  {
   "cell_type": "code",
   "execution_count": 7,
   "metadata": {},
   "outputs": [
    {
     "data": {
      "text/html": [
       "<div>\n",
       "<style scoped>\n",
       "    .dataframe tbody tr th:only-of-type {\n",
       "        vertical-align: middle;\n",
       "    }\n",
       "\n",
       "    .dataframe tbody tr th {\n",
       "        vertical-align: top;\n",
       "    }\n",
       "\n",
       "    .dataframe thead th {\n",
       "        text-align: right;\n",
       "    }\n",
       "</style>\n",
       "<table border=\"1\" class=\"dataframe\">\n",
       "  <thead>\n",
       "    <tr style=\"text-align: right;\">\n",
       "      <th></th>\n",
       "      <th>File_name</th>\n",
       "      <th>Type</th>\n",
       "      <th>Objective_value</th>\n",
       "    </tr>\n",
       "  </thead>\n",
       "  <tbody>\n",
       "    <tr>\n",
       "      <th>0</th>\n",
       "      <td>prev_Truck_20_LP_40_50_10_1rep.csv</td>\n",
       "      <td>Min</td>\n",
       "      <td>25570</td>\n",
       "    </tr>\n",
       "    <tr>\n",
       "      <th>2</th>\n",
       "      <td>prev_Truck_20_LP_40_50_10_1rep.csv</td>\n",
       "      <td>Middle</td>\n",
       "      <td>37926</td>\n",
       "    </tr>\n",
       "    <tr>\n",
       "      <th>4</th>\n",
       "      <td>prev_Truck_20_LP_40_50_10_1rep.csv</td>\n",
       "      <td>Max</td>\n",
       "      <td>44443</td>\n",
       "    </tr>\n",
       "  </tbody>\n",
       "</table>\n",
       "</div>"
      ],
      "text/plain": [
       "                            File_name    Type  Objective_value\n",
       "0  prev_Truck_20_LP_40_50_10_1rep.csv     Min            25570\n",
       "2  prev_Truck_20_LP_40_50_10_1rep.csv  Middle            37926\n",
       "4  prev_Truck_20_LP_40_50_10_1rep.csv     Max            44443"
      ]
     },
     "execution_count": 7,
     "metadata": {},
     "output_type": "execute_result"
    }
   ],
   "source": [
    "original_df[original_df['File_name'] == 'prev_Truck_20_LP_40_50_10_1rep.csv']"
   ]
  },
  {
   "cell_type": "code",
   "execution_count": 8,
   "metadata": {},
   "outputs": [
    {
     "name": "stdout",
     "output_type": "stream",
     "text": [
      "                               File_name    Type  Objective_value    C_max  \\\n",
      "0     prev_Truck_20_LP_40_50_10_1rep.csv     Min            25570  420.216   \n",
      "1      now_Truck_20_LP_40_50_10_1rep.csv     Min            22648  434.192   \n",
      "2     prev_Truck_20_LP_40_50_10_1rep.csv  Middle            37926  480.920   \n",
      "3      now_Truck_20_LP_40_50_10_1rep.csv  Middle            37414  477.056   \n",
      "4     prev_Truck_20_LP_40_50_10_1rep.csv     Max            44443  498.736   \n",
      "..                                   ...     ...              ...      ...   \n",
      "115   now_Truck_20_LP_40_50_10_20rep.csv     Min            19611  420.544   \n",
      "116  prev_Truck_20_LP_40_50_10_20rep.csv  Middle            37708  455.968   \n",
      "117   now_Truck_20_LP_40_50_10_20rep.csv  Middle            33296  461.824   \n",
      "118  prev_Truck_20_LP_40_50_10_20rep.csv     Max            43890  510.808   \n",
      "119   now_Truck_20_LP_40_50_10_20rep.csv     Max            41181  507.488   \n",
      "\n",
      "        C_avg  \n",
      "0    388.5020  \n",
      "1    380.9956  \n",
      "2    416.0424  \n",
      "3    416.0620  \n",
      "4    431.6212  \n",
      "..        ...  \n",
      "115  368.8480  \n",
      "116  417.8796  \n",
      "117  410.1504  \n",
      "118  428.8944  \n",
      "119  422.3872  \n",
      "\n",
      "[120 rows x 5 columns]\n"
     ]
    }
   ],
   "source": [
    "# 'File_name'과 'Type'이 같은 행끼리 병합\n",
    "merged_df = pd.merge(original_df, cost_type_df, on=['File_name', 'Type'], how='inner')\n",
    "print(merged_df)"
   ]
  },
  {
   "cell_type": "code",
   "execution_count": 11,
   "metadata": {},
   "outputs": [
    {
     "data": {
      "text/html": [
       "<div>\n",
       "<style scoped>\n",
       "    .dataframe tbody tr th:only-of-type {\n",
       "        vertical-align: middle;\n",
       "    }\n",
       "\n",
       "    .dataframe tbody tr th {\n",
       "        vertical-align: top;\n",
       "    }\n",
       "\n",
       "    .dataframe thead th {\n",
       "        text-align: right;\n",
       "    }\n",
       "</style>\n",
       "<table border=\"1\" class=\"dataframe\">\n",
       "  <thead>\n",
       "    <tr style=\"text-align: right;\">\n",
       "      <th></th>\n",
       "      <th>File_name</th>\n",
       "      <th>Type</th>\n",
       "      <th>Objective_value</th>\n",
       "      <th>C_max</th>\n",
       "      <th>C_avg</th>\n",
       "    </tr>\n",
       "  </thead>\n",
       "  <tbody>\n",
       "    <tr>\n",
       "      <th>54</th>\n",
       "      <td>prev_Truck_20_LP_40_50_10_10rep.csv</td>\n",
       "      <td>Min</td>\n",
       "      <td>20872</td>\n",
       "      <td>415.888</td>\n",
       "      <td>368.5212</td>\n",
       "    </tr>\n",
       "    <tr>\n",
       "      <th>56</th>\n",
       "      <td>prev_Truck_20_LP_40_50_10_10rep.csv</td>\n",
       "      <td>Middle</td>\n",
       "      <td>39732</td>\n",
       "      <td>464.504</td>\n",
       "      <td>416.8088</td>\n",
       "    </tr>\n",
       "    <tr>\n",
       "      <th>58</th>\n",
       "      <td>prev_Truck_20_LP_40_50_10_10rep.csv</td>\n",
       "      <td>Max</td>\n",
       "      <td>47559</td>\n",
       "      <td>544.080</td>\n",
       "      <td>438.8640</td>\n",
       "    </tr>\n",
       "  </tbody>\n",
       "</table>\n",
       "</div>"
      ],
      "text/plain": [
       "                              File_name    Type  Objective_value    C_max  \\\n",
       "54  prev_Truck_20_LP_40_50_10_10rep.csv     Min            20872  415.888   \n",
       "56  prev_Truck_20_LP_40_50_10_10rep.csv  Middle            39732  464.504   \n",
       "58  prev_Truck_20_LP_40_50_10_10rep.csv     Max            47559  544.080   \n",
       "\n",
       "       C_avg  \n",
       "54  368.5212  \n",
       "56  416.8088  \n",
       "58  438.8640  "
      ]
     },
     "execution_count": 11,
     "metadata": {},
     "output_type": "execute_result"
    }
   ],
   "source": [
    "merged_df[merged_df['File_name'] == 'prev_Truck_20_LP_40_50_10_10rep.csv']"
   ]
  },
  {
   "cell_type": "code",
   "execution_count": 12,
   "metadata": {},
   "outputs": [],
   "source": [
    "# dataframe to csv\n",
    "merged_df.to_csv('correlation_between_obj_and_Cmax_final.csv', index=False)"
   ]
  }
 ],
 "metadata": {
  "kernelspec": {
   "display_name": "purify",
   "language": "python",
   "name": "python3"
  },
  "language_info": {
   "codemirror_mode": {
    "name": "ipython",
    "version": 3
   },
   "file_extension": ".py",
   "mimetype": "text/x-python",
   "name": "python",
   "nbconvert_exporter": "python",
   "pygments_lexer": "ipython3",
   "version": "3.7.16"
  }
 },
 "nbformat": 4,
 "nbformat_minor": 2
}
