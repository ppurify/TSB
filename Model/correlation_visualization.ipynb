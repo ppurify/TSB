{
 "cells": [
  {
   "cell_type": "code",
   "execution_count": 22,
   "metadata": {},
   "outputs": [
    {
     "name": "stdout",
     "output_type": "stream",
     "text": [
      "                                Filename     Type  Objective_value  C_max\n",
      "0      prev_Truck_20_LP_0_0_100_1rep.csv      Min            63800    NaN\n",
      "1       now_Truck_20_LP_0_0_100_1rep.csv      Min            68000    NaN\n",
      "2     prev_Truck_20_LP_40_50_10_1rep.csv      Min            34751    NaN\n",
      "3      now_Truck_20_LP_40_50_10_1rep.csv      Min            34924    NaN\n",
      "4      prev_Truck_20_LP_0_0_100_1rep.csv   Middle            98400    NaN\n",
      "..                                   ...      ...              ...    ...\n",
      "235   now_Truck_20_LP_40_50_10_20rep.csv   Middle            48319    NaN\n",
      "236   prev_Truck_20_LP_0_0_100_20rep.csv      Max           112800    NaN\n",
      "237    now_Truck_20_LP_0_0_100_20rep.csv      Max           115600    NaN\n",
      "238  prev_Truck_20_LP_40_50_10_20rep.csv      Max            59834    NaN\n",
      "239   now_Truck_20_LP_40_50_10_20rep.csv      Max            62918    NaN\n",
      "\n",
      "[240 rows x 4 columns]\n"
     ]
    }
   ],
   "source": [
    "import os\n",
    "import pandas as pd\n",
    "\n",
    "# correlation_data csv를 불러옴\n",
    "correlation_data = pd.read_csv(os.path.join(os.getcwd(), 'corrlation_data.csv'))\n",
    "\n",
    "root_folder_path = 'C:\\\\Users\\\\USER\\\\workspace\\\\TSB\\\\Simulation\\\\Assets\\\\Results\\\\Correlation_cost_completiontime'  # 해당 경로로 변경하세요.\n",
    "C_max_prev_column = 'C_max_prev'\n",
    "C_max_now_column = 'C_max_now'\n",
    "\n",
    "# correlation_data를 한 행씩 순회하며\n",
    "for index, row in correlation_data.iterrows():\n",
    "\n",
    "    for subfolder in os.listdir(root_folder_path):\n",
    "        subfolder_path = os.path.join(root_folder_path, subfolder)\n",
    "\n",
    "        # 해당 폴더가 디렉토리이고 csv 파일을 포함하고 있다면\n",
    "        if os.path.isdir(subfolder_path):\n",
    "            csv_files = [f for f in os.listdir(subfolder_path) if f.endswith('.csv')]\n",
    "\n",
    "            for csv_file in csv_files:\n",
    "                csv_file_path = os.path.join(subfolder_path, csv_file)\n",
    "\n",
    "                subfolder_type = None\n",
    "                if 'min' in subfolder:\n",
    "                    subfolder_type = 'min'\n",
    "                elif 'middle' in subfolder:\n",
    "                    subfolder_type = 'middle'\n",
    "                elif 'max' in subfolder:\n",
    "                    subfolder_type = 'max'\n",
    "\n",
    "                # csv 파일을 데이터프레임으로 읽어오기\n",
    "                df = pd.read_csv(csv_file_path)\n",
    "\n",
    "                # Filename열의 값이 csv_file에 포함되어 있고 subfolder_type이 row['Type']과 같다면\n",
    "                if row['Filename'] in csv_file and subfolder_type == row['Type']:\n",
    "                    # Filename에 'prev'가 포함된다면\n",
    "                    if 'prev' in row['Filename']:\n",
    "                        # correlation_data의 C_max 열에 df의 C_max_prev 열의 첫번째 값 저장\n",
    "                        correlation_data.at[index, 'C_max'] = df[C_max_prev_column].iloc[0]\n",
    "\n",
    "                        print(f\"{row['Filename']}: {correlation_data.at[index, 'C_max']} (df: {df[C_max_prev_column].iloc[0]})\")\n",
    "\n",
    "                    # Filename에 'now'가 포함된다면\n",
    "                    elif 'now' in row['Filename']:\n",
    "                        # correlation_data의 C_max 열에 df의 C_max_now 열의 첫번째 값 저장\n",
    "                        correlation_data.at[index, 'C_max'] = df[C_max_now_column].iloc[0]\n",
    "\n",
    "                        print(f\"{row['Filename']}: {correlation_data.at[index, 'C_max']} (df: {df[C_max_now_column].iloc[0]})\")\n",
    "\n",
    "# 최종 결과를 확인\n",
    "print(correlation_data)\n"
   ]
  }
 ],
 "metadata": {
  "kernelspec": {
   "display_name": "hyeooi",
   "language": "python",
   "name": "python3"
  },
  "language_info": {
   "codemirror_mode": {
    "name": "ipython",
    "version": 3
   },
   "file_extension": ".py",
   "mimetype": "text/x-python",
   "name": "python",
   "nbconvert_exporter": "python",
   "pygments_lexer": "ipython3",
   "version": "3.7.16"
  },
  "orig_nbformat": 4
 },
 "nbformat": 4,
 "nbformat_minor": 2
}
