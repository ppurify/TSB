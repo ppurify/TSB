{
 "cells": [
  {
   "cell_type": "code",
   "execution_count": 14,
   "metadata": {},
   "outputs": [],
   "source": [
    "import matplotlib.pyplot as plt\n",
    "import numpy as np\n",
    "import pandas as pd\n",
    "import function as f\n",
    "import re\n",
    "import os"
   ]
  },
  {
   "cell_type": "code",
   "execution_count": 15,
   "metadata": {},
   "outputs": [
    {
     "ename": "NameError",
     "evalue": "name 'f' is not defined",
     "output_type": "error",
     "traceback": [
      "\u001b[1;31m---------------------------------------------------------------------------\u001b[0m",
      "\u001b[1;31mNameError\u001b[0m                                 Traceback (most recent call last)",
      "\u001b[1;32mc:\\Users\\USER\\workspace\\TSB\\Results\\Congestion_2.ipynb Cell 2\u001b[0m line \u001b[0;36m7\n\u001b[0;32m      <a href='vscode-notebook-cell:/c%3A/Users/USER/workspace/TSB/Results/Congestion_2.ipynb#W1sZmlsZQ%3D%3D?line=4'>5</a>\u001b[0m row_num \u001b[39m=\u001b[39m \u001b[39m2\u001b[39m\n\u001b[0;32m      <a href='vscode-notebook-cell:/c%3A/Users/USER/workspace/TSB/Results/Congestion_2.ipynb#W1sZmlsZQ%3D%3D?line=5'>6</a>\u001b[0m col_num \u001b[39m=\u001b[39m \u001b[39m4\u001b[39m\n\u001b[1;32m----> <a href='vscode-notebook-cell:/c%3A/Users/USER/workspace/TSB/Results/Congestion_2.ipynb#W1sZmlsZQ%3D%3D?line=6'>7</a>\u001b[0m f\u001b[39m.\u001b[39;49mCreate_subplot_congestion(directory_path, x_label, y_label, title, row_num, col_num, (\u001b[39m30\u001b[39;49m, \u001b[39m8\u001b[39;49m))\n",
      "File \u001b[1;32mc:\\Users\\USER\\workspace\\TSB\\Results\\function.py:231\u001b[0m, in \u001b[0;36mCreate_subplot_congestion\u001b[1;34m(_directory_path, _x_label, _y_label, _title, row_num, col_num, fig_size)\u001b[0m\n\u001b[0;32m    228\u001b[0m \u001b[39mif\u001b[39;00m os\u001b[39m.\u001b[39mpath\u001b[39m.\u001b[39misdir(folder_path):\n\u001b[0;32m    229\u001b[0m     folder_name_list\u001b[39m.\u001b[39mappend(folder_name)\n\u001b[1;32m--> 231\u001b[0m     congestion_df \u001b[39m=\u001b[39m get_congestion_ratio_df(folder_path)\n\u001b[0;32m    232\u001b[0m     congestion_df_list\u001b[39m.\u001b[39mappend(congestion_df)\n\u001b[0;32m    234\u001b[0m \u001b[39melse\u001b[39;00m:\n",
      "File \u001b[1;32mc:\\Users\\USER\\workspace\\TSB\\Results\\function.py:131\u001b[0m, in \u001b[0;36mget_congestion_ratio_df\u001b[1;34m(_folder_path)\u001b[0m\n\u001b[0;32m    129\u001b[0m \u001b[39mdef\u001b[39;00m \u001b[39mget_congestion_ratio_df\u001b[39m(_folder_path):\n\u001b[1;32m--> 131\u001b[0m     wt_df, wot_df \u001b[39m=\u001b[39m create_congestion_df(_folder_path)\n\u001b[0;32m    132\u001b[0m     \u001b[39m# Perform the subtraction and division\u001b[39;00m\n\u001b[0;32m    133\u001b[0m     merged_df \u001b[39m=\u001b[39m wt_df\u001b[39m.\u001b[39mmerge(wot_df, on\u001b[39m=\u001b[39m[\u001b[39m'\u001b[39m\u001b[39mPrev Truck Number\u001b[39m\u001b[39m'\u001b[39m, \u001b[39m'\u001b[39m\u001b[39mNow Truck Number\u001b[39m\u001b[39m'\u001b[39m, \u001b[39m'\u001b[39m\u001b[39malpha_1\u001b[39m\u001b[39m'\u001b[39m, \u001b[39m'\u001b[39m\u001b[39mrepeat_num\u001b[39m\u001b[39m'\u001b[39m, \u001b[39m'\u001b[39m\u001b[39malpha_2\u001b[39m\u001b[39m'\u001b[39m, \u001b[39m'\u001b[39m\u001b[39malpha_3\u001b[39m\u001b[39m'\u001b[39m, \u001b[39m'\u001b[39m\u001b[39mTruck_id\u001b[39m\u001b[39m'\u001b[39m], suffixes\u001b[39m=\u001b[39m(\u001b[39m'\u001b[39m\u001b[39m_wt\u001b[39m\u001b[39m'\u001b[39m, \u001b[39m'\u001b[39m\u001b[39m_wot\u001b[39m\u001b[39m'\u001b[39m))\n",
      "File \u001b[1;32mc:\\Users\\USER\\workspace\\TSB\\Results\\function.py:75\u001b[0m, in \u001b[0;36mcreate_congestion_df\u001b[1;34m(_folderPath)\u001b[0m\n\u001b[0;32m     74\u001b[0m \u001b[39mdef\u001b[39;00m \u001b[39mcreate_congestion_df\u001b[39m(_folderPath):\n\u001b[1;32m---> 75\u001b[0m     csv_data \u001b[39m=\u001b[39m f\u001b[39m.\u001b[39mload_csv_files_in_folder(_folderPath)\n\u001b[0;32m     76\u001b[0m     folder_name \u001b[39m=\u001b[39m os\u001b[39m.\u001b[39mpath\u001b[39m.\u001b[39mbasename(os\u001b[39m.\u001b[39mpath\u001b[39m.\u001b[39mnormpath(_folderPath))\n\u001b[0;32m     78\u001b[0m     prev_truck_num \u001b[39m=\u001b[39m re\u001b[39m.\u001b[39mfindall(\u001b[39mr\u001b[39m\u001b[39m'\u001b[39m\u001b[39mprev_(\u001b[39m\u001b[39m\\\u001b[39m\u001b[39md+)\u001b[39m\u001b[39m'\u001b[39m, folder_name)[\u001b[39m0\u001b[39m]\n",
      "\u001b[1;31mNameError\u001b[0m: name 'f' is not defined"
     ]
    }
   ],
   "source": [
    "directory_path = '../Simulation/Assets/Results/Congestion'\n",
    "x_label = 'alpha_1'\n",
    "y_label = 'Congestion_ratio'\n",
    "title = 'Congestion_ratio by alpha_1'\n",
    "row_num = 2\n",
    "col_num = 4\n",
    "f.Create_subplot_congestion(directory_path, x_label, y_label, title, row_num, col_num, (30, 8))"
   ]
  },
  {
   "cell_type": "code",
   "execution_count": null,
   "metadata": {},
   "outputs": [],
   "source": []
  }
 ],
 "metadata": {
  "kernelspec": {
   "display_name": "purify",
   "language": "python",
   "name": "python3"
  },
  "language_info": {
   "codemirror_mode": {
    "name": "ipython",
    "version": 3
   },
   "file_extension": ".py",
   "mimetype": "text/x-python",
   "name": "python",
   "nbconvert_exporter": "python",
   "pygments_lexer": "ipython3",
   "version": "3.11.2"
  },
  "orig_nbformat": 4
 },
 "nbformat": 4,
 "nbformat_minor": 2
}
