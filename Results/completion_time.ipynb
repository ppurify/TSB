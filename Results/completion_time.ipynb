{
 "cells": [
  {
   "cell_type": "code",
   "execution_count": 77,
   "metadata": {},
   "outputs": [],
   "source": [
    "import function as f"
   ]
  },
  {
   "cell_type": "code",
   "execution_count": 78,
   "metadata": {},
   "outputs": [
    {
     "ename": "AttributeError",
     "evalue": "module 'function' has no attribute 'create_subplot_completion'",
     "output_type": "error",
     "traceback": [
      "\u001b[1;31m---------------------------------------------------------------------------\u001b[0m",
      "\u001b[1;31mAttributeError\u001b[0m                            Traceback (most recent call last)",
      "\u001b[1;32mc:\\Users\\USER\\workspace\\TSB\\Results\\completion_time.ipynb Cell 2\u001b[0m line \u001b[0;36m1\n\u001b[0;32m      <a href='vscode-notebook-cell:/c%3A/Users/USER/workspace/TSB/Results/completion_time.ipynb#X14sZmlsZQ%3D%3D?line=6'>7</a>\u001b[0m title \u001b[39m=\u001b[39m \u001b[39m\"\u001b[39m\u001b[39mCompletion Time by alpha_1\u001b[39m\u001b[39m\"\u001b[39m\n\u001b[0;32m      <a href='vscode-notebook-cell:/c%3A/Users/USER/workspace/TSB/Results/completion_time.ipynb#X14sZmlsZQ%3D%3D?line=8'>9</a>\u001b[0m col_num \u001b[39m=\u001b[39m \u001b[39m3\u001b[39m\n\u001b[1;32m---> <a href='vscode-notebook-cell:/c%3A/Users/USER/workspace/TSB/Results/completion_time.ipynb#X14sZmlsZQ%3D%3D?line=10'>11</a>\u001b[0m f\u001b[39m.\u001b[39;49mcreate_subplot_completion(directory_path, x_col_name, y_col_name, x_label, y_label, title, col_num, (\u001b[39m26\u001b[39m,\u001b[39m8\u001b[39m))\n",
      "\u001b[1;31mAttributeError\u001b[0m: module 'function' has no attribute 'create_subplot_completion'"
     ]
    }
   ],
   "source": [
    "directory_path ='../Simulation/Assets/Results/Congestion'\n",
    "x_col_name = 'alpha_1'\n",
    "y_col_name = 'Total Time'\n",
    "\n",
    "x_label = \"alpha_1\"\n",
    "y_label = \"Completion Time\"\n",
    "title = \"Completion Time by alpha_1\"\n",
    "\n",
    "col_num = 3\n",
    "\n",
    "f.create_subplot_completion(directory_path, x_col_name, y_col_name, x_label, y_label, title, col_num, (26,8))"
   ]
  }
 ],
 "metadata": {
  "kernelspec": {
   "display_name": "purify",
   "language": "python",
   "name": "python3"
  },
  "language_info": {
   "codemirror_mode": {
    "name": "ipython",
    "version": 3
   },
   "file_extension": ".py",
   "mimetype": "text/x-python",
   "name": "python",
   "nbconvert_exporter": "python",
   "pygments_lexer": "ipython3",
   "version": "3.11.2"
  },
  "orig_nbformat": 4
 },
 "nbformat": 4,
 "nbformat_minor": 2
}
