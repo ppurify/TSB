{
 "cells": [
  {
   "cell_type": "code",
   "execution_count": 148,
   "metadata": {},
   "outputs": [],
   "source": [
    "import function as f"
   ]
  },
  {
   "cell_type": "code",
   "execution_count": 149,
   "metadata": {},
   "outputs": [
    {
     "ename": "AttributeError",
     "evalue": "module 'function' has no attribute 'create_subplot_congestion'",
     "output_type": "error",
     "traceback": [
      "\u001b[1;31m---------------------------------------------------------------------------\u001b[0m",
      "\u001b[1;31mAttributeError\u001b[0m                            Traceback (most recent call last)",
      "\u001b[1;32mc:\\Users\\USER\\workspace\\TSB\\Results\\congestion.ipynb Cell 2\u001b[0m line \u001b[0;36m9\n\u001b[0;32m      <a href='vscode-notebook-cell:/c%3A/Users/USER/workspace/TSB/Results/congestion.ipynb#X11sZmlsZQ%3D%3D?line=5'>6</a>\u001b[0m prev_or_now \u001b[39m=\u001b[39m \u001b[39m'\u001b[39m\u001b[39mprev\u001b[39m\u001b[39m'\u001b[39m\n\u001b[0;32m      <a href='vscode-notebook-cell:/c%3A/Users/USER/workspace/TSB/Results/congestion.ipynb#X11sZmlsZQ%3D%3D?line=6'>7</a>\u001b[0m fig_size \u001b[39m=\u001b[39m (\u001b[39m30\u001b[39m, \u001b[39m3\u001b[39m)\n\u001b[1;32m----> <a href='vscode-notebook-cell:/c%3A/Users/USER/workspace/TSB/Results/congestion.ipynb#X11sZmlsZQ%3D%3D?line=8'>9</a>\u001b[0m f\u001b[39m.\u001b[39;49mcreate_subplot_congestion(directory_path, prev_or_now, x_label, y_label, title, col_num, fig_size)\n",
      "\u001b[1;31mAttributeError\u001b[0m: module 'function' has no attribute 'create_subplot_congestion'"
     ]
    }
   ],
   "source": [
    "directory_path = '../Simulation/Assets/Results/Congestion'\n",
    "x_label = 'alpha 1'\n",
    "y_label = 'Congestion ratio'\n",
    "title = 'Congestion ratio by alpha 1'\n",
    "col_num = 4\n",
    "prev_or_now = 'prev'\n",
    "fig_size = (30, 3)\n",
    "\n",
    "f.create_subplot_congestion(directory_path, prev_or_now, x_label, y_label, title, col_num, fig_size)"
   ]
  },
  {
   "cell_type": "code",
   "execution_count": 66,
   "metadata": {},
   "outputs": [
    {
     "ename": "AttributeError",
     "evalue": "module 'function' has no attribute 'create_subplot_congestion'",
     "output_type": "error",
     "traceback": [
      "\u001b[1;31m---------------------------------------------------------------------------\u001b[0m",
      "\u001b[1;31mAttributeError\u001b[0m                            Traceback (most recent call last)",
      "\u001b[1;32mc:\\Users\\USER\\workspace\\TSB\\Results\\congestion.ipynb Cell 3\u001b[0m line \u001b[0;36m4\n\u001b[0;32m      <a href='vscode-notebook-cell:/c%3A/Users/USER/workspace/TSB/Results/congestion.ipynb#W3sZmlsZQ%3D%3D?line=0'>1</a>\u001b[0m col_num \u001b[39m=\u001b[39m \u001b[39m3\u001b[39m\n\u001b[0;32m      <a href='vscode-notebook-cell:/c%3A/Users/USER/workspace/TSB/Results/congestion.ipynb#W3sZmlsZQ%3D%3D?line=1'>2</a>\u001b[0m fig_size \u001b[39m=\u001b[39m (\u001b[39m36\u001b[39m, \u001b[39m8\u001b[39m)\n\u001b[1;32m----> <a href='vscode-notebook-cell:/c%3A/Users/USER/workspace/TSB/Results/congestion.ipynb#W3sZmlsZQ%3D%3D?line=3'>4</a>\u001b[0m f\u001b[39m.\u001b[39;49mcreate_subplot_congestion(directory_path, x_label, y_label, title, col_num, fig_size)\n",
      "\u001b[1;31mAttributeError\u001b[0m: module 'function' has no attribute 'create_subplot_congestion'"
     ]
    }
   ],
   "source": [
    "col_num = 3\n",
    "fig_size = (36, 8)\n",
    "\n",
    "f.create_subplot_congestion(directory_path, x_label, y_label, title, col_num, fig_size)"
   ]
  },
  {
   "cell_type": "code",
   "execution_count": null,
   "metadata": {},
   "outputs": [],
   "source": []
  }
 ],
 "metadata": {
  "kernelspec": {
   "display_name": "purify",
   "language": "python",
   "name": "python3"
  },
  "language_info": {
   "codemirror_mode": {
    "name": "ipython",
    "version": 3
   },
   "file_extension": ".py",
   "mimetype": "text/x-python",
   "name": "python",
   "nbconvert_exporter": "python",
   "pygments_lexer": "ipython3",
   "version": "3.11.2"
  },
  "orig_nbformat": 4
 },
 "nbformat": 4,
 "nbformat_minor": 2
}
