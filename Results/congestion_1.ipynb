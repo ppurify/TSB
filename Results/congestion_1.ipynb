{
 "cells": [
  {
   "cell_type": "code",
   "execution_count": 19,
   "metadata": {},
   "outputs": [],
   "source": [
    "import matplotlib.pyplot as plt\n",
    "import numpy as np\n",
    "import pandas as pd\n",
    "import function as f"
   ]
  },
  {
   "cell_type": "code",
   "execution_count": 20,
   "metadata": {},
   "outputs": [],
   "source": [
    "def draw_plot(_x_values, _y_values, _title_name, x_label, y_label):\n",
    "    plt.figure(figsize=(5,3))\n",
    "    plt.plot(_x_values, _y_values , marker='o', linestyle='-', color = 'navy')\n",
    "    plt.title(_title_name, fontsize=9, ha='center')\n",
    "\n",
    "    plt.ylim(_y_values.min() - 0.05, _y_values.max() + 0.05)\n",
    "    plt.xlabel(x_label, fontsize=9)\n",
    "    plt.ylabel(y_label, fontsize=9)\n",
    "\n",
    "    plt.grid(True)\n",
    "    plt.show()"
   ]
  },
  {
   "cell_type": "code",
   "execution_count": 21,
   "metadata": {},
   "outputs": [],
   "source": [
    "def create_congestion_df(csv_data):\n",
    "    columns = ['Truck_num', 'Repeat_time'] + csv_data[0][1][0]\n",
    "\n",
    "    data_list = []\n",
    "\n",
    "    for file_name, file_data in csv_data:\n",
    "        truck_num = file_name.split('_')[2]\n",
    "        # remove .csv\n",
    "        repeat_time = file_name.split('_')[-1].split('.')[0]\n",
    "        \n",
    "        if repeat_time == '100' :\n",
    "            repeat_time = '1'\n",
    "            \n",
    "        for row in file_data[1:]:\n",
    "            # print(row)\n",
    "            row[4:] = [float(value) for value in row[4:]]\n",
    "            new_row = [truck_num, repeat_time] + row\n",
    "            data_list.append(new_row)\n",
    "\n",
    "    df = pd.DataFrame(data_list, columns=columns)\n",
    "    return df"
   ]
  },
  {
   "cell_type": "code",
   "execution_count": 22,
   "metadata": {},
   "outputs": [],
   "source": [
    "def merge_df(df1, df2):\n",
    "    merged_df = pd.merge(df1, df2, on=['Truck_num', 'Repeat_time', 'Truck_id'], suffixes=('_wt', '_wot'))\n",
    "    return merged_df"
   ]
  },
  {
   "cell_type": "markdown",
   "metadata": {},
   "source": [
    "### LP_0_0_100"
   ]
  },
  {
   "cell_type": "code",
   "execution_count": 23,
   "metadata": {},
   "outputs": [
    {
     "data": {
      "text/html": [
       "<div>\n",
       "<style scoped>\n",
       "    .dataframe tbody tr th:only-of-type {\n",
       "        vertical-align: middle;\n",
       "    }\n",
       "\n",
       "    .dataframe tbody tr th {\n",
       "        vertical-align: top;\n",
       "    }\n",
       "\n",
       "    .dataframe thead th {\n",
       "        text-align: right;\n",
       "    }\n",
       "</style>\n",
       "<table border=\"1\" class=\"dataframe\">\n",
       "  <thead>\n",
       "    <tr style=\"text-align: right;\">\n",
       "      <th></th>\n",
       "      <th>Truck_num</th>\n",
       "      <th>Repeat_time</th>\n",
       "      <th>Truck_id</th>\n",
       "      <th>Route_id</th>\n",
       "      <th>Origin</th>\n",
       "      <th>Destination</th>\n",
       "      <th>Total Time</th>\n",
       "      <th>PickupSta AT</th>\n",
       "      <th>DropSta AT</th>\n",
       "    </tr>\n",
       "  </thead>\n",
       "  <tbody>\n",
       "    <tr>\n",
       "      <th>181</th>\n",
       "      <td>20</td>\n",
       "      <td>1</td>\n",
       "      <td>Truck-0</td>\n",
       "      <td>Route-0</td>\n",
       "      <td>(425.0 0.0 155.5)</td>\n",
       "      <td>(625.0 0.0 150.0)</td>\n",
       "      <td>406.720</td>\n",
       "      <td>31.944</td>\n",
       "      <td>69.768</td>\n",
       "    </tr>\n",
       "    <tr>\n",
       "      <th>188</th>\n",
       "      <td>20</td>\n",
       "      <td>2</td>\n",
       "      <td>Truck-0</td>\n",
       "      <td>Route-0</td>\n",
       "      <td>(675.0 0.0 5.5)</td>\n",
       "      <td>(625.0 0.0 200.0)</td>\n",
       "      <td>361.696</td>\n",
       "      <td>8.944</td>\n",
       "      <td>47.728</td>\n",
       "    </tr>\n",
       "    <tr>\n",
       "      <th>206</th>\n",
       "      <td>20</td>\n",
       "      <td>3</td>\n",
       "      <td>Truck-0</td>\n",
       "      <td>Route-0</td>\n",
       "      <td>(175.0 0.0 55.5)</td>\n",
       "      <td>(125.0 0.0 200.0)</td>\n",
       "      <td>350.424</td>\n",
       "      <td>8.136</td>\n",
       "      <td>37.296</td>\n",
       "    </tr>\n",
       "  </tbody>\n",
       "</table>\n",
       "</div>"
      ],
      "text/plain": [
       "    Truck_num Repeat_time Truck_id Route_id             Origin  \\\n",
       "181        20           1  Truck-0  Route-0  (425.0 0.0 155.5)   \n",
       "188        20           2  Truck-0  Route-0    (675.0 0.0 5.5)   \n",
       "206        20           3  Truck-0  Route-0   (175.0 0.0 55.5)   \n",
       "\n",
       "           Destination  Total Time  PickupSta AT  DropSta AT  \n",
       "181  (625.0 0.0 150.0)     406.720        31.944      69.768  \n",
       "188  (625.0 0.0 200.0)     361.696         8.944      47.728  \n",
       "206  (125.0 0.0 200.0)     350.424         8.136      37.296  "
      ]
     },
     "execution_count": 23,
     "metadata": {},
     "output_type": "execute_result"
    }
   ],
   "source": [
    "folder_name = 'congestion/prev_LP_0_0_100_together/'\n",
    "congestion_all_csv_data = f.load_csv_files_in_folder(folder_name)\n",
    "\n",
    "congestion_wt_df = create_congestion_df(congestion_all_csv_data)\n",
    "congestion_wt_df[(congestion_wt_df['Truck_num'] == '20') & (congestion_wt_df['Truck_id'] == 'Truck-0')]"
   ]
  },
  {
   "cell_type": "code",
   "execution_count": 24,
   "metadata": {},
   "outputs": [
    {
     "data": {
      "text/html": [
       "<div>\n",
       "<style scoped>\n",
       "    .dataframe tbody tr th:only-of-type {\n",
       "        vertical-align: middle;\n",
       "    }\n",
       "\n",
       "    .dataframe tbody tr th {\n",
       "        vertical-align: top;\n",
       "    }\n",
       "\n",
       "    .dataframe thead th {\n",
       "        text-align: right;\n",
       "    }\n",
       "</style>\n",
       "<table border=\"1\" class=\"dataframe\">\n",
       "  <thead>\n",
       "    <tr style=\"text-align: right;\">\n",
       "      <th></th>\n",
       "      <th>Truck_num</th>\n",
       "      <th>Repeat_time</th>\n",
       "      <th>Truck_id</th>\n",
       "      <th>Route_id</th>\n",
       "      <th>Origin</th>\n",
       "      <th>Destination</th>\n",
       "      <th>Total Time</th>\n",
       "      <th>PickupSta AT</th>\n",
       "      <th>DropSta AT</th>\n",
       "    </tr>\n",
       "  </thead>\n",
       "  <tbody>\n",
       "    <tr>\n",
       "      <th>145</th>\n",
       "      <td>20</td>\n",
       "      <td>1</td>\n",
       "      <td>Truck-0</td>\n",
       "      <td>Route-0</td>\n",
       "      <td>(425.0 0.0 155.5)</td>\n",
       "      <td>(625.0 0.0 150.0)</td>\n",
       "      <td>382.064</td>\n",
       "      <td>32.120</td>\n",
       "      <td>44.936</td>\n",
       "    </tr>\n",
       "    <tr>\n",
       "      <th>165</th>\n",
       "      <td>20</td>\n",
       "      <td>2</td>\n",
       "      <td>Truck-0</td>\n",
       "      <td>Route-0</td>\n",
       "      <td>(675.0 0.0 5.5)</td>\n",
       "      <td>(625.0 0.0 200.0)</td>\n",
       "      <td>361.352</td>\n",
       "      <td>8.568</td>\n",
       "      <td>47.784</td>\n",
       "    </tr>\n",
       "    <tr>\n",
       "      <th>185</th>\n",
       "      <td>20</td>\n",
       "      <td>3</td>\n",
       "      <td>Truck-0</td>\n",
       "      <td>Route-0</td>\n",
       "      <td>(175.0 0.0 55.5)</td>\n",
       "      <td>(125.0 0.0 200.0)</td>\n",
       "      <td>352.864</td>\n",
       "      <td>8.496</td>\n",
       "      <td>39.384</td>\n",
       "    </tr>\n",
       "  </tbody>\n",
       "</table>\n",
       "</div>"
      ],
      "text/plain": [
       "    Truck_num Repeat_time Truck_id Route_id             Origin  \\\n",
       "145        20           1  Truck-0  Route-0  (425.0 0.0 155.5)   \n",
       "165        20           2  Truck-0  Route-0    (675.0 0.0 5.5)   \n",
       "185        20           3  Truck-0  Route-0   (175.0 0.0 55.5)   \n",
       "\n",
       "           Destination  Total Time  PickupSta AT  DropSta AT  \n",
       "145  (625.0 0.0 150.0)     382.064        32.120      44.936  \n",
       "165  (625.0 0.0 200.0)     361.352         8.568      47.784  \n",
       "185  (125.0 0.0 200.0)     352.864         8.496      39.384  "
      ]
     },
     "execution_count": 24,
     "metadata": {},
     "output_type": "execute_result"
    }
   ],
   "source": [
    "folder_name = 'congestion/prev_LP_0_0_100_onebyone/'\n",
    "congestion_onebyone_all_csv_data = f.load_csv_files_in_folder(folder_name)\n",
    "\n",
    "congestion_wot_df = create_congestion_df(congestion_onebyone_all_csv_data)\n",
    "congestion_wot_df[(congestion_wot_df['Truck_num'] == '20') & (congestion_wot_df['Truck_id'] == 'Truck-0')]"
   ]
  },
  {
   "cell_type": "markdown",
   "metadata": {},
   "source": [
    "### Merge DataFrame"
   ]
  },
  {
   "cell_type": "code",
   "execution_count": 25,
   "metadata": {},
   "outputs": [],
   "source": [
    "# Merge the two dataframes on 'Truck_num' and 'Truck_id' columns\n",
    "df = merge_df(congestion_wt_df, congestion_wot_df)\n",
    "\n",
    "# Calculate the difference between 'Total Time' columns\n",
    "df['Pickup Congestion ratio'] = (df['PickupSta AT_wt'] - df['PickupSta AT_wot'])/df['PickupSta AT_wt']\n",
    "df['Drop Congestion ratio'] = (df['DropSta AT_wt'] - df['DropSta AT_wot'])/df['DropSta AT_wt']"
   ]
  },
  {
   "cell_type": "markdown",
   "metadata": {},
   "source": [
    "### Plot"
   ]
  },
  {
   "cell_type": "code",
   "execution_count": 26,
   "metadata": {},
   "outputs": [
    {
     "data": {
      "image/png": "[encoded data removed]",
      "text/plain": [
       "<Figure size 500x300 with 1 Axes>"
      ]
     },
     "metadata": {},
     "output_type": "display_data"
    }
   ],
   "source": [
    "congestion_df = pd.DataFrame(df['Truck_num'].unique(), columns=['Truck_num'])\n",
    "congestion_df['congestion_ratio'] = df.groupby('Truck_num')[['Pickup Congestion ratio', 'Drop Congestion ratio']].mean().mean(axis=1).tolist()\n",
    "\n",
    "x_value = congestion_df['Truck_num']\n",
    "y_value = congestion_df['congestion_ratio']\n",
    "\n",
    "x_label = 'Truck number'\n",
    "y_label = 'Congestion ratio'\n",
    "title_name = 'Congestion ratio of shortest path'\n",
    "\n",
    "draw_plot(x_value, y_value, title_name, x_label, y_label)"
   ]
  },
  {
   "cell_type": "code",
   "execution_count": 27,
   "metadata": {},
   "outputs": [
    {
     "data": {
      "text/html": [
       "<div>\n",
       "<style scoped>\n",
       "    .dataframe tbody tr th:only-of-type {\n",
       "        vertical-align: middle;\n",
       "    }\n",
       "\n",
       "    .dataframe tbody tr th {\n",
       "        vertical-align: top;\n",
       "    }\n",
       "\n",
       "    .dataframe thead th {\n",
       "        text-align: right;\n",
       "    }\n",
       "</style>\n",
       "<table border=\"1\" class=\"dataframe\">\n",
       "  <thead>\n",
       "    <tr style=\"text-align: right;\">\n",
       "      <th></th>\n",
       "      <th>Truck_num</th>\n",
       "      <th>congestion_ratio</th>\n",
       "    </tr>\n",
       "  </thead>\n",
       "  <tbody>\n",
       "    <tr>\n",
       "      <th>0</th>\n",
       "      <td>10</td>\n",
       "      <td>-0.010091</td>\n",
       "    </tr>\n",
       "    <tr>\n",
       "      <th>1</th>\n",
       "      <td>15</td>\n",
       "      <td>0.067606</td>\n",
       "    </tr>\n",
       "    <tr>\n",
       "      <th>2</th>\n",
       "      <td>20</td>\n",
       "      <td>0.096160</td>\n",
       "    </tr>\n",
       "    <tr>\n",
       "      <th>3</th>\n",
       "      <td>25</td>\n",
       "      <td>0.166087</td>\n",
       "    </tr>\n",
       "    <tr>\n",
       "      <th>4</th>\n",
       "      <td>30</td>\n",
       "      <td>0.199308</td>\n",
       "    </tr>\n",
       "    <tr>\n",
       "      <th>5</th>\n",
       "      <td>35</td>\n",
       "      <td>0.267036</td>\n",
       "    </tr>\n",
       "    <tr>\n",
       "      <th>6</th>\n",
       "      <td>40</td>\n",
       "      <td>0.317103</td>\n",
       "    </tr>\n",
       "    <tr>\n",
       "      <th>7</th>\n",
       "      <td>45</td>\n",
       "      <td>0.327742</td>\n",
       "    </tr>\n",
       "    <tr>\n",
       "      <th>8</th>\n",
       "      <td>50</td>\n",
       "      <td>0.356509</td>\n",
       "    </tr>\n",
       "    <tr>\n",
       "      <th>9</th>\n",
       "      <td>55</td>\n",
       "      <td>0.343984</td>\n",
       "    </tr>\n",
       "    <tr>\n",
       "      <th>10</th>\n",
       "      <td>60</td>\n",
       "      <td>0.373936</td>\n",
       "    </tr>\n",
       "    <tr>\n",
       "      <th>11</th>\n",
       "      <td>65</td>\n",
       "      <td>0.393978</td>\n",
       "    </tr>\n",
       "  </tbody>\n",
       "</table>\n",
       "</div>"
      ],
      "text/plain": [
       "   Truck_num  congestion_ratio\n",
       "0         10         -0.010091\n",
       "1         15          0.067606\n",
       "2         20          0.096160\n",
       "3         25          0.166087\n",
       "4         30          0.199308\n",
       "5         35          0.267036\n",
       "6         40          0.317103\n",
       "7         45          0.327742\n",
       "8         50          0.356509\n",
       "9         55          0.343984\n",
       "10        60          0.373936\n",
       "11        65          0.393978"
      ]
     },
     "execution_count": 27,
     "metadata": {},
     "output_type": "execute_result"
    }
   ],
   "source": [
    "congestion_df"
   ]
  }
 ],
 "metadata": {
  "kernelspec": {
   "display_name": "purify",
   "language": "python",
   "name": "python3"
  },
  "language_info": {
   "codemirror_mode": {
    "name": "ipython",
    "version": 3
   },
   "file_extension": ".py",
   "mimetype": "text/x-python",
   "name": "python",
   "nbconvert_exporter": "python",
   "pygments_lexer": "ipython3",
   "version": "3.11.2"
  },
  "orig_nbformat": 4
 },
 "nbformat": 4,
 "nbformat_minor": 2
}
