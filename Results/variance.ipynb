{
 "cells": [
  {
   "cell_type": "code",
   "execution_count": 53,
   "metadata": {},
   "outputs": [],
   "source": [
    "import csv\n",
    "import os\n",
    "import pandas as pd\n",
    "import matplotlib.pyplot as plt"
   ]
  },
  {
   "cell_type": "code",
   "execution_count": 54,
   "metadata": {},
   "outputs": [],
   "source": [
    "def load_csv_file(file_path):\n",
    "    data = []\n",
    "\n",
    "    with open(file_path, 'r') as csv_file:\n",
    "        csv_reader = csv.reader(csv_file)\n",
    "\n",
    "        for row in csv_reader:\n",
    "            data.append(row)\n",
    "\n",
    "    return data"
   ]
  },
  {
   "cell_type": "code",
   "execution_count": 55,
   "metadata": {},
   "outputs": [],
   "source": [
    "def load_csv_files_in_folder(folder_path):\n",
    "    csv_files = [file for file in os.listdir(folder_path) if file.endswith('.csv')]\n",
    "    all_csv_data = []\n",
    "\n",
    "    for csv_file in csv_files:\n",
    "        csv_path = os.path.join(folder_path, csv_file)\n",
    "        csv_data = load_csv_file(csv_path)\n",
    "        all_csv_data.append((csv_file, csv_data))\n",
    "\n",
    "    return all_csv_data"
   ]
  },
  {
   "cell_type": "code",
   "execution_count": 56,
   "metadata": {},
   "outputs": [],
   "source": [
    "def extract_YT_A_data(data, keyword):\n",
    "    new_data = []\n",
    "    \n",
    "    for row in data:\n",
    "        if keyword in row:\n",
    "            new_data.append(row)\n",
    "    \n",
    "    return new_data"
   ]
  },
  {
   "cell_type": "code",
   "execution_count": 57,
   "metadata": {},
   "outputs": [],
   "source": [
    "folder_name = 'variance_shortest_hg'"
   ]
  },
  {
   "cell_type": "code",
   "execution_count": 58,
   "metadata": {},
   "outputs": [],
   "source": [
    "all_csv_data = load_csv_files_in_folder(folder_name)"
   ]
  },
  {
   "cell_type": "code",
   "execution_count": 59,
   "metadata": {},
   "outputs": [
    {
     "name": "stdout",
     "output_type": "stream",
     "text": [
      "Extracted data from result-prev_Truck_10_shortest.csv-now_Truck_1_shortest.csv where 'Truck-100' exists:\n",
      "['Truck-100', 'Route-100', '(175.0 0.0 155.5)', '(625.0 0.0 50.0)', '402.412', '66.072', '35.212']\n",
      "================================================================================\n",
      "Extracted data from result-prev_Truck_20_shortest.csv-now_Truck_1_shortest.csv where 'Truck-100' exists:\n",
      "['Truck-100', 'Route-100', '(175.0 0.0 155.5)', '(625.0 0.0 50.0)', '405.536', '69.556', '34.84']\n",
      "================================================================================\n",
      "Extracted data from result-prev_Truck_30_shortest.csv-now_Truck_1_shortest.csv where 'Truck-100' exists:\n",
      "['Truck-100', 'Route-100', '(175.0 0.0 155.5)', '(625.0 0.0 50.0)', '431.28', '94.004', '35.416']\n",
      "================================================================================\n",
      "Extracted data from result-prev_Truck_40_shortest.csv-now_Truck_1_shortest.csv where 'Truck-100' exists:\n",
      "['Truck-100', 'Route-100', '(175.0 0.0 155.5)', '(625.0 0.0 50.0)', '458.484', '121.136', '36.016']\n",
      "================================================================================\n",
      "Extracted data from result-prev_Truck_50_shortest.csv-now_Truck_1_shortest.csv where 'Truck-100' exists:\n",
      "['Truck-100', 'Route-100', '(175.0 0.0 155.5)', '(625.0 0.0 50.0)', '511.028', '176.076', '33.768']\n",
      "================================================================================\n",
      "Extracted data from result-prev_Truck_60_shortest.csv-now_Truck_1_shortest.csv where 'Truck-100' exists:\n",
      "['Truck-100', 'Route-100', '(175.0 0.0 155.5)', '(625.0 0.0 50.0)', '507.98', '170.748', '35.52']\n",
      "================================================================================\n",
      "Extracted data from result-prev_Truck_70_shortest.csv-now_Truck_1_shortest.csv where 'Truck-100' exists:\n",
      "['Truck-100', 'Route-100', '(175.0 0.0 155.5)', '(625.0 0.0 50.0)', '589.56', '247.3', '40.596']\n",
      "================================================================================\n"
     ]
    }
   ],
   "source": [
    "# Printing the loaded CSV data for each file\n",
    "keyword = \"Truck-100\"\n",
    "YT_A_data = []\n",
    "\n",
    "for csv_file, csv_data in all_csv_data:\n",
    "    \n",
    "    data = extract_YT_A_data(csv_data, keyword)\n",
    "    \n",
    "    print(f\"Extracted data from {csv_file} where '{keyword}' exists:\")\n",
    "    for row in data:\n",
    "        print(row)\n",
    "        YT_A_data.append(row)\n",
    "    print(\"=\" * 80)"
   ]
  },
  {
   "cell_type": "code",
   "execution_count": 60,
   "metadata": {},
   "outputs": [
    {
     "name": "stdout",
     "output_type": "stream",
     "text": [
      "['Truck_id', 'Route_id', 'Origin', 'Destination', 'Total Time', 'PickupSta AT', 'DropSta AT']\n"
     ]
    }
   ],
   "source": [
    "original_column_names = all_csv_data[0][1][0]\n",
    "column_names = [column.strip() for column in original_column_names]\n",
    "print(column_names)"
   ]
  },
  {
   "cell_type": "code",
   "execution_count": 61,
   "metadata": {},
   "outputs": [
    {
     "data": {
      "text/html": [
       "<div>\n",
       "<style scoped>\n",
       "    .dataframe tbody tr th:only-of-type {\n",
       "        vertical-align: middle;\n",
       "    }\n",
       "\n",
       "    .dataframe tbody tr th {\n",
       "        vertical-align: top;\n",
       "    }\n",
       "\n",
       "    .dataframe thead th {\n",
       "        text-align: right;\n",
       "    }\n",
       "</style>\n",
       "<table border=\"1\" class=\"dataframe\">\n",
       "  <thead>\n",
       "    <tr style=\"text-align: right;\">\n",
       "      <th></th>\n",
       "      <th>Truck_id</th>\n",
       "      <th>Route_id</th>\n",
       "      <th>Origin</th>\n",
       "      <th>Destination</th>\n",
       "      <th>Total Time</th>\n",
       "      <th>PickupSta AT</th>\n",
       "      <th>DropSta AT</th>\n",
       "    </tr>\n",
       "  </thead>\n",
       "  <tbody>\n",
       "    <tr>\n",
       "      <th>0</th>\n",
       "      <td>Truck-100</td>\n",
       "      <td>Route-100</td>\n",
       "      <td>(175.0 0.0 155.5)</td>\n",
       "      <td>(625.0 0.0 50.0)</td>\n",
       "      <td>402.412</td>\n",
       "      <td>66.072</td>\n",
       "      <td>35.212</td>\n",
       "    </tr>\n",
       "    <tr>\n",
       "      <th>1</th>\n",
       "      <td>Truck-100</td>\n",
       "      <td>Route-100</td>\n",
       "      <td>(175.0 0.0 155.5)</td>\n",
       "      <td>(625.0 0.0 50.0)</td>\n",
       "      <td>405.536</td>\n",
       "      <td>69.556</td>\n",
       "      <td>34.84</td>\n",
       "    </tr>\n",
       "    <tr>\n",
       "      <th>2</th>\n",
       "      <td>Truck-100</td>\n",
       "      <td>Route-100</td>\n",
       "      <td>(175.0 0.0 155.5)</td>\n",
       "      <td>(625.0 0.0 50.0)</td>\n",
       "      <td>431.28</td>\n",
       "      <td>94.004</td>\n",
       "      <td>35.416</td>\n",
       "    </tr>\n",
       "    <tr>\n",
       "      <th>3</th>\n",
       "      <td>Truck-100</td>\n",
       "      <td>Route-100</td>\n",
       "      <td>(175.0 0.0 155.5)</td>\n",
       "      <td>(625.0 0.0 50.0)</td>\n",
       "      <td>458.484</td>\n",
       "      <td>121.136</td>\n",
       "      <td>36.016</td>\n",
       "    </tr>\n",
       "    <tr>\n",
       "      <th>4</th>\n",
       "      <td>Truck-100</td>\n",
       "      <td>Route-100</td>\n",
       "      <td>(175.0 0.0 155.5)</td>\n",
       "      <td>(625.0 0.0 50.0)</td>\n",
       "      <td>511.028</td>\n",
       "      <td>176.076</td>\n",
       "      <td>33.768</td>\n",
       "    </tr>\n",
       "    <tr>\n",
       "      <th>5</th>\n",
       "      <td>Truck-100</td>\n",
       "      <td>Route-100</td>\n",
       "      <td>(175.0 0.0 155.5)</td>\n",
       "      <td>(625.0 0.0 50.0)</td>\n",
       "      <td>507.98</td>\n",
       "      <td>170.748</td>\n",
       "      <td>35.52</td>\n",
       "    </tr>\n",
       "    <tr>\n",
       "      <th>6</th>\n",
       "      <td>Truck-100</td>\n",
       "      <td>Route-100</td>\n",
       "      <td>(175.0 0.0 155.5)</td>\n",
       "      <td>(625.0 0.0 50.0)</td>\n",
       "      <td>589.56</td>\n",
       "      <td>247.3</td>\n",
       "      <td>40.596</td>\n",
       "    </tr>\n",
       "  </tbody>\n",
       "</table>\n",
       "</div>"
      ],
      "text/plain": [
       "    Truck_id   Route_id             Origin       Destination Total Time  \\\n",
       "0  Truck-100  Route-100  (175.0 0.0 155.5)  (625.0 0.0 50.0)    402.412   \n",
       "1  Truck-100  Route-100  (175.0 0.0 155.5)  (625.0 0.0 50.0)    405.536   \n",
       "2  Truck-100  Route-100  (175.0 0.0 155.5)  (625.0 0.0 50.0)     431.28   \n",
       "3  Truck-100  Route-100  (175.0 0.0 155.5)  (625.0 0.0 50.0)    458.484   \n",
       "4  Truck-100  Route-100  (175.0 0.0 155.5)  (625.0 0.0 50.0)    511.028   \n",
       "5  Truck-100  Route-100  (175.0 0.0 155.5)  (625.0 0.0 50.0)     507.98   \n",
       "6  Truck-100  Route-100  (175.0 0.0 155.5)  (625.0 0.0 50.0)     589.56   \n",
       "\n",
       "  PickupSta AT DropSta AT  \n",
       "0       66.072     35.212  \n",
       "1       69.556      34.84  \n",
       "2       94.004     35.416  \n",
       "3      121.136     36.016  \n",
       "4      176.076     33.768  \n",
       "5      170.748      35.52  \n",
       "6        247.3     40.596  "
      ]
     },
     "execution_count": 61,
     "metadata": {},
     "output_type": "execute_result"
    }
   ],
   "source": [
    "YT_A_shortest_df = pd.DataFrame(YT_A_data, columns = column_names)\n",
    "YT_A_shortest_df"
   ]
  },
  {
   "cell_type": "code",
   "execution_count": 62,
   "metadata": {},
   "outputs": [],
   "source": [
    "prev_YT_Num_data = [10, 20, 30, 40, 50, 60, 70]\n",
    "prev_YT_Num_data_column_name = \"prev_YT_Num\""
   ]
  },
  {
   "cell_type": "code",
   "execution_count": 63,
   "metadata": {},
   "outputs": [],
   "source": [
    "YT_A_shortest_df[prev_YT_Num_data_column_name] = prev_YT_Num_data"
   ]
  },
  {
   "cell_type": "code",
   "execution_count": 64,
   "metadata": {},
   "outputs": [
    {
     "data": {
      "text/html": [
       "<div>\n",
       "<style scoped>\n",
       "    .dataframe tbody tr th:only-of-type {\n",
       "        vertical-align: middle;\n",
       "    }\n",
       "\n",
       "    .dataframe tbody tr th {\n",
       "        vertical-align: top;\n",
       "    }\n",
       "\n",
       "    .dataframe thead th {\n",
       "        text-align: right;\n",
       "    }\n",
       "</style>\n",
       "<table border=\"1\" class=\"dataframe\">\n",
       "  <thead>\n",
       "    <tr style=\"text-align: right;\">\n",
       "      <th></th>\n",
       "      <th>Truck_id</th>\n",
       "      <th>Route_id</th>\n",
       "      <th>Origin</th>\n",
       "      <th>Destination</th>\n",
       "      <th>Total Time</th>\n",
       "      <th>PickupSta AT</th>\n",
       "      <th>DropSta AT</th>\n",
       "      <th>prev_YT_Num</th>\n",
       "    </tr>\n",
       "  </thead>\n",
       "  <tbody>\n",
       "    <tr>\n",
       "      <th>0</th>\n",
       "      <td>Truck-100</td>\n",
       "      <td>Route-100</td>\n",
       "      <td>(175.0 0.0 155.5)</td>\n",
       "      <td>(625.0 0.0 50.0)</td>\n",
       "      <td>402.412</td>\n",
       "      <td>66.072</td>\n",
       "      <td>35.212</td>\n",
       "      <td>10</td>\n",
       "    </tr>\n",
       "    <tr>\n",
       "      <th>1</th>\n",
       "      <td>Truck-100</td>\n",
       "      <td>Route-100</td>\n",
       "      <td>(175.0 0.0 155.5)</td>\n",
       "      <td>(625.0 0.0 50.0)</td>\n",
       "      <td>405.536</td>\n",
       "      <td>69.556</td>\n",
       "      <td>34.84</td>\n",
       "      <td>20</td>\n",
       "    </tr>\n",
       "    <tr>\n",
       "      <th>2</th>\n",
       "      <td>Truck-100</td>\n",
       "      <td>Route-100</td>\n",
       "      <td>(175.0 0.0 155.5)</td>\n",
       "      <td>(625.0 0.0 50.0)</td>\n",
       "      <td>431.28</td>\n",
       "      <td>94.004</td>\n",
       "      <td>35.416</td>\n",
       "      <td>30</td>\n",
       "    </tr>\n",
       "    <tr>\n",
       "      <th>3</th>\n",
       "      <td>Truck-100</td>\n",
       "      <td>Route-100</td>\n",
       "      <td>(175.0 0.0 155.5)</td>\n",
       "      <td>(625.0 0.0 50.0)</td>\n",
       "      <td>458.484</td>\n",
       "      <td>121.136</td>\n",
       "      <td>36.016</td>\n",
       "      <td>40</td>\n",
       "    </tr>\n",
       "    <tr>\n",
       "      <th>4</th>\n",
       "      <td>Truck-100</td>\n",
       "      <td>Route-100</td>\n",
       "      <td>(175.0 0.0 155.5)</td>\n",
       "      <td>(625.0 0.0 50.0)</td>\n",
       "      <td>511.028</td>\n",
       "      <td>176.076</td>\n",
       "      <td>33.768</td>\n",
       "      <td>50</td>\n",
       "    </tr>\n",
       "    <tr>\n",
       "      <th>5</th>\n",
       "      <td>Truck-100</td>\n",
       "      <td>Route-100</td>\n",
       "      <td>(175.0 0.0 155.5)</td>\n",
       "      <td>(625.0 0.0 50.0)</td>\n",
       "      <td>507.98</td>\n",
       "      <td>170.748</td>\n",
       "      <td>35.52</td>\n",
       "      <td>60</td>\n",
       "    </tr>\n",
       "    <tr>\n",
       "      <th>6</th>\n",
       "      <td>Truck-100</td>\n",
       "      <td>Route-100</td>\n",
       "      <td>(175.0 0.0 155.5)</td>\n",
       "      <td>(625.0 0.0 50.0)</td>\n",
       "      <td>589.56</td>\n",
       "      <td>247.3</td>\n",
       "      <td>40.596</td>\n",
       "      <td>70</td>\n",
       "    </tr>\n",
       "  </tbody>\n",
       "</table>\n",
       "</div>"
      ],
      "text/plain": [
       "    Truck_id   Route_id             Origin       Destination Total Time  \\\n",
       "0  Truck-100  Route-100  (175.0 0.0 155.5)  (625.0 0.0 50.0)    402.412   \n",
       "1  Truck-100  Route-100  (175.0 0.0 155.5)  (625.0 0.0 50.0)    405.536   \n",
       "2  Truck-100  Route-100  (175.0 0.0 155.5)  (625.0 0.0 50.0)     431.28   \n",
       "3  Truck-100  Route-100  (175.0 0.0 155.5)  (625.0 0.0 50.0)    458.484   \n",
       "4  Truck-100  Route-100  (175.0 0.0 155.5)  (625.0 0.0 50.0)    511.028   \n",
       "5  Truck-100  Route-100  (175.0 0.0 155.5)  (625.0 0.0 50.0)     507.98   \n",
       "6  Truck-100  Route-100  (175.0 0.0 155.5)  (625.0 0.0 50.0)     589.56   \n",
       "\n",
       "  PickupSta AT DropSta AT  prev_YT_Num  \n",
       "0       66.072     35.212           10  \n",
       "1       69.556      34.84           20  \n",
       "2       94.004     35.416           30  \n",
       "3      121.136     36.016           40  \n",
       "4      176.076     33.768           50  \n",
       "5      170.748      35.52           60  \n",
       "6        247.3     40.596           70  "
      ]
     },
     "execution_count": 64,
     "metadata": {},
     "output_type": "execute_result"
    }
   ],
   "source": [
    "YT_A_shortest_df"
   ]
  },
  {
   "cell_type": "code",
   "execution_count": 78,
   "metadata": {},
   "outputs": [
    {
     "data": {
      "image/png": "[encoded data removed]",
      "text/plain": [
       "<Figure size 700x400 with 1 Axes>"
      ]
     },
     "metadata": {},
     "output_type": "display_data"
    }
   ],
   "source": [
    "plt.figure(figsize=(7, 4))\n",
    "plt.scatter(YT_A_shortest_df['prev_YT_Num'], YT_A_shortest_df['Total Time'])\n",
    "plt.title('Completion time of YT_A on the shortest route', fontsize=9, ha='center')\n",
    "plt.xlabel('prev_YT_Num', fontsize = 9)\n",
    "plt.ylabel('Total Time', fontsize = 9)\n",
    "plt.show()"
   ]
  },
  {
   "cell_type": "code",
   "execution_count": null,
   "metadata": {},
   "outputs": [],
   "source": []
  }
 ],
 "metadata": {
  "kernelspec": {
   "display_name": "purify",
   "language": "python",
   "name": "python3"
  },
  "language_info": {
   "codemirror_mode": {
    "name": "ipython",
    "version": 3
   },
   "file_extension": ".py",
   "mimetype": "text/x-python",
   "name": "python",
   "nbconvert_exporter": "python",
   "pygments_lexer": "ipython3",
   "version": "3.11.2"
  },
  "orig_nbformat": 4
 },
 "nbformat": 4,
 "nbformat_minor": 2
}
