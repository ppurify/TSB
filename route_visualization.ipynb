{
 "cells": [
  {
   "cell_type": "code",
   "execution_count": 9,
   "metadata": {},
   "outputs": [],
   "source": [
    "import numpy as np\n",
    "\n",
    "# parameter(have to set by yourself)\n",
    "grid = np.array([\n",
    "    [4, 2, 3, 2, 3, 2, 4],\n",
    "    [2, -1, 2, -1, 2, -1, 2],\n",
    "    [4, 1, 3, 1, 3, 1, 4],\n",
    "    [2, -1, 2, -1, 2, -1, 2],\n",
    "    [4, 1, 3, 1, 3, 1, 4],\n",
    "    [2, -1, 2, -1, 2, -1, 2],\n",
    "    [4, 1, 3, 1, 3, 1, 4],\n",
    "    [2, -1, 2, -1, 2, -1, 2],\n",
    "    [4, 2, 3, 2, 3, 2, 4],\n",
    "])\n",
    "\n",
    "# start, finish 위치 랜덤 생성 + 블럭위치에는 생성 안되게 + start, finish가 같지 않게\n",
    "start = None\n",
    "finish = None\n",
    "\n",
    "while start is None or grid[start] == -1 or finish is None or grid[finish] == -1 or finish == start:\n",
    "    start = (np.random.randint(9), np.random.randint(7))\n",
    "    finish = (np.random.randint(9), np.random.randint(7))\n",
    "\n",
    "dx = [0, 1, 0, -1]\n",
    "dy = [1, 0, -1, 0]\n",
    "\n",
    "to_right = (0,1)\n",
    "\n",
    "\n",
    "def blue(current, finish, grid, path):\n",
    "    candidate = []\n",
    "\n",
    "    current = (current[0], current[1]-1)\n",
    "    candidate.append(current)\n",
    "\n",
    "    return candidate\n",
    "\n",
    "\n",
    "\n",
    "def purple(current, finish, grid, path):\n",
    "    temp_candidate = []\n",
    "    distances = []\n",
    "\n",
    "    # start가 purple grid에 있을 때, 일단 모든 candidate 고려\n",
    "    for i in range(4):\n",
    "        nx = current[0] + dx[i]\n",
    "        ny = current[1] + dy[i]\n",
    "        # 그리드 범위 안에 있고, Block이 아니고, 이미 간 길이 아닌 경우만\n",
    "        if 0 <= nx < grid.shape[0] and 0 <= ny < grid.shape[1] and grid[nx, ny] != -1 and (nx, ny) not in path:\n",
    "            # 역주행으로 blue로 가는 경우 제외\n",
    "            if not ((nx - current[0], ny - current[1]) == to_right and grid[nx, ny]) == 1:\n",
    "                temp_candidate.append((nx, ny))\n",
    "                distances.append(abs(nx - finish[0]) + abs(ny - finish[1]))\n",
    "\n",
    "    # finish와 거리가 가장 가까운 candidate만 남기기 다시말해, finish와 가까운 좌표만 남김\n",
    "    if len(temp_candidate) == 0:\n",
    "        candidate = []\n",
    "    else:\n",
    "        min_distance = min(distances)\n",
    "        candidate = [c for i, c in enumerate(temp_candidate) if distances[i] == min_distance]\n",
    "\n",
    "    return candidate\n",
    "\n",
    "\n",
    "\n",
    "def green(current, finish, grid, path):\n",
    "    temp_candidate = []\n",
    "    distances = []\n",
    "\n",
    "    for i in range(4):\n",
    "        nx = current[0] + dx[i]\n",
    "        ny = current[1] + dy[i]\n",
    "        # 그리드 범위 안에 있고, Block이 아니고, 이미 간 길이 아닌 경우만\n",
    "        if 0 <= nx < grid.shape[0] and 0 <= ny < grid.shape[1] and grid[nx, ny] != -1 and (nx, ny) not in path:\n",
    "            # 역주행으로 blue로 가는 경우 제외\n",
    "            if not ((nx - current[0], ny - current[1]) == to_right and grid[nx, ny]) == 1:\n",
    "                temp_candidate.append((nx, ny))\n",
    "                distances.append(abs(nx - finish[0])+abs(ny - finish[1]))\n",
    "                \n",
    "    # finish와 거리가 가장 가까운 candidate만 남기기 다시말해, finish와 가까운 좌표만 남김\n",
    "    if len(temp_candidate) == 0:\n",
    "        candidate = []\n",
    "    else:\n",
    "        min_distance = min(distances)\n",
    "        candidate = [c for i, c in enumerate(temp_candidate) if distances[i] == min_distance]\n",
    "\n",
    "    return candidate\n",
    "\n",
    "\n",
    "\n",
    "# 무조건 갈래길 다 candidate\n",
    "def orange(current, finish, grid, path):\n",
    "    candidate = []\n",
    "\n",
    "    for i in range(4):\n",
    "        nx = current[0] + dx[i]\n",
    "        ny = current[1] + dy[i]\n",
    "        if 0 <= nx < grid.shape[0] and 0 <= ny < grid.shape[1] and grid[nx, ny] != -1 and (nx, ny) not in path:\n",
    "            # 역주행으로 blue로 가는 경우 제외\n",
    "            if not ((nx - current[0], ny - current[1]) == to_right and grid[nx, ny]) == 1:\n",
    "                candidate.append((nx, ny))\n",
    "    \n",
    "    return candidate\n",
    "\n",
    "\n",
    "\n",
    "\n",
    "# 1. 밟았던건 안밟게. path 리스트 활용\n",
    "# 2. 추후 if current == 왼쪽 가장자리 쪽 or 교차로 등이면 소요시간 변화 등 속성\n",
    "# 3. \n",
    "def move(current, finish, grid, path, route):\n",
    "    print('current : ', current)\n",
    "\n",
    "    path.append(current)\n",
    "    print('path : ', path)\n",
    "\n",
    "    color = grid[current[0], current[1]]\n",
    "    print('color : ', color)\n",
    "    if color == 1:\n",
    "        candidate = blue(current, finish, grid, path)\n",
    "    elif color == 2:\n",
    "        candidate = purple(current, finish, grid, path)\n",
    "    elif color == 3:\n",
    "        candidate = green(current, finish, grid, path)\n",
    "    elif color == 4:\n",
    "        candidate = orange(current, finish, grid, path)\n",
    "    else:\n",
    "        print('Invalid color. terminating.')\n",
    "        return\n",
    "    print('candidate : ', candidate)\n",
    "\n",
    "    # 갈곳 없으면 종료\n",
    "    if len(candidate) == 0 :\n",
    "        print('This path is dead end.', 'path : ', path)\n",
    "        return\n",
    "\n",
    "    # candidate 방문\n",
    "    for next_move in candidate:\n",
    "        if next_move == finish:\n",
    "            # If next_move is finish, add completed path to route\n",
    "            print('got finish, completed path : ', path + [next_move]) \n",
    "            route.append(path + [next_move])\n",
    "        else:\n",
    "            # Continue recursively visiting candidate\n",
    "            new_path = path.copy()\n",
    "            move(next_move, finish, grid, new_path, route)\n",
    "\n",
    "    return"
   ]
  },
  {
   "cell_type": "code",
   "execution_count": 10,
   "metadata": {},
   "outputs": [
    {
     "data": {
      "image/png": "[encoded data removed]",
      "text/plain": [
       "<Figure size 576x576 with 1 Axes>"
      ]
     },
     "metadata": {},
     "output_type": "display_data"
    }
   ],
   "source": [
    "import matplotlib.pyplot as plt\n",
    "\n",
    "grid = np.array([\n",
    "    [4, 2, 3, 2, 3, 2, 4],\n",
    "    [2, -1, 2, -1, 2, -1, 2],\n",
    "    [4, 1, 3, 1, 3, 1, 4],\n",
    "    [2, -1, 2, -1, 2, -1, 2],\n",
    "    [4, 1, 3, 1, 3, 1, 4],\n",
    "    [2, -1, 2, -1, 2, -1, 2],\n",
    "    [4, 1, 3, 1, 3, 1, 4],\n",
    "    [2, -1, 2, -1, 2, -1, 2],\n",
    "    [4, 2, 3, 2, 3, 2, 4],\n",
    "])\n",
    "\n",
    "# Define the colors for each value\n",
    "colors = {\n",
    "    1: 'lightblue',\n",
    "    2: 'lavender',\n",
    "    3: 'lightgreen',\n",
    "    4: 'lightsalmon'\n",
    "}\n",
    "\n",
    "# Define the path\n",
    "path = [(0, 6), (1, 6), (2, 6), (3, 6), (4, 6), (5, 6), (6, 6), (7, 6), (8, 6), (8, 5), (8, 4), (7, 4), (6, 4), (5, 4), (4, \n",
    "4), (3, 4), (2, 4), (1, 4), (0, 4)]\n",
    "\n",
    "# Create the figure and axes objects\n",
    "fig, ax = plt.subplots(figsize=(8, 8))\n",
    "\n",
    "# Iterate through the grid and plot each cell with the appropriate color\n",
    "for i in range(grid.shape[0]):\n",
    "    for j in range(grid.shape[1]):\n",
    "        value = grid[i][j]\n",
    "        color = colors.get(value, 'white')\n",
    "        ax.add_patch(plt.Rectangle((j, grid.shape[0]-1-i), 1, 1, color=color))  # flip the order of the coordinates\n",
    "        \n",
    "        # Add text 'B' on a white background if the coordinate value is -1\n",
    "        if value == -1:\n",
    "            ax.add_patch(plt.Rectangle((j, grid.shape[0]-1-i), 1, 1, color='white'))\n",
    "            ax.text(j+0.5, grid.shape[0]-1-i+0.5, 'B', ha='center', va='center', color='black', fontsize=20)\n",
    "    \n",
    "    # Add black dots at each coordinate in the path\n",
    "    for coord in path:\n",
    "        if coord[0] == i:\n",
    "            ax.scatter(coord[1]+0.5, grid.shape[0]-1-i+0.5, color='black', s=50)  # flip the order of the coordinates\n",
    "    \n",
    "# Connect the dots in the path with a line\n",
    "x, y = zip(*path)\n",
    "ax.plot([y_i+0.5 for y_i in y], [grid.shape[0]-1-x_i+0.5 for x_i in x], linewidth=3, color='black')  # flip the order of the coordinates\n",
    "\n",
    "# Set the limits and aspect ratio\n",
    "ax.set_xlim(0, grid.shape[1])\n",
    "ax.set_ylim(0, grid.shape[0])\n",
    "ax.set_aspect('equal')\n",
    "\n",
    "# Remove the axis ticks and labels\n",
    "ax.set_xticks([])\n",
    "ax.set_yticks([])\n",
    "ax.axis('off')\n",
    "\n",
    "# Show the plot\n",
    "plt.show()\n"
   ]
  },
  {
   "cell_type": "code",
   "execution_count": 5,
   "metadata": {},
   "outputs": [
    {
     "data": {
      "image/png": "[encoded data removed]",
      "text/plain": [
       "<Figure size 576x576 with 1 Axes>"
      ]
     },
     "metadata": {},
     "output_type": "display_data"
    },
    {
     "data": {
      "image/png": "[encoded data removed]",
      "text/plain": [
       "<Figure size 576x576 with 1 Axes>"
      ]
     },
     "metadata": {},
     "output_type": "display_data"
    },
    {
     "data": {
      "image/png": "[encoded data removed]",
      "text/plain": [
       "<Figure size 576x576 with 1 Axes>"
      ]
     },
     "metadata": {},
     "output_type": "display_data"
    }
   ],
   "source": [
    "import numpy as np\n",
    "import matplotlib.pyplot as plt\n",
    "\n",
    "grid = np.array([[4, 2, 2, 2, 2, 2, 3, 2, 2, 2, 2, 2, 3, 2, 2, 2, 2, 2, 4],\n",
    "        [2, -1, -1, -1, -1, -1, 2, -1, -1, -1, -1, -1, 2, -1, -1, -1, -1, -1, 2],\n",
    "        [4, 1, 1, 1, 1, 1, 3, 1, 1, 1, 1, 1, 3, 1, 1, 1, 1, 1, 4],\n",
    "        [2, -1, -1, -1, -1, -1, 2, -1, -1, -1, -1, -1, 2, -1, -1, -1, -1, -1, 2],\n",
    "        [4, 1, 1, 1, 1, 1, 3, 1, 1, 1, 1, 1, 3, 1, 1, 1, 1, 1, 4],\n",
    "        [2, -1, -1, -1, -1, -1, 2, -1, -1, -1, -1, -1, 2, -1, -1, -1, -1, -1, 2],\n",
    "        [4, 1, 1, 1, 1, 1, 3, 1, 1, 1, 1, 1, 3, 1, 1, 1, 1, 1, 4],\n",
    "        [2, -1, -1, -1, -1, -1, 2, -1, -1, -1, -1, -1, 2, -1, -1, -1, -1, -1, 2],\n",
    "        [4, 2, 2, 2, 2, 2, 3, 2, 2, 2, 2, 2 ,3, 2, 2, 2, 2, 2, 4]])\n",
    "\n",
    "colors = {\n",
    "    1: 'lightblue',\n",
    "    2: 'lavender',\n",
    "    3: 'lightgreen',\n",
    "    4: 'lightsalmon'\n",
    "}\n",
    "\n",
    "route = [[(0, 8), (0, 7), (0, 6), (1, 6), (2, 6), (3, 6), (4, 6), (5, 6), (6, 6), (6, 5), (6, 4), (6, 3)],\n",
    "         [(0, 9), (0, 8), (0, 7), (0, 6), (1, 6), (2, 6), (3, 6), (4, 6), (5, 6), (6, 6), (7, 6), (8, 6), (8, 5), (8, 4), (8, 3)],\n",
    "         [(8, 3), (8, 4), (8, 5), (8, 6), (8, 7), (8, 8), (8, 9), (8, 10), (8, 11), (8, 12), (7, 12), (6, 12), (5, 12), (4, 12), (3, 12), (2, 12), (1, 12), (0, 12), (0, 13), (0, 14), (0, 15)]]\n",
    "\n",
    "for path in route:\n",
    "    fig, ax = plt.subplots(figsize=(8, 8))\n",
    "\n",
    "    for i in range(grid.shape[0]):\n",
    "        for j in range(grid.shape[1]):\n",
    "            value = grid[i][j]\n",
    "            color = colors.get(value, 'white')\n",
    "            ax.add_patch(plt.Rectangle((j, grid.shape[0]-1-i), 1, 1, color=color))\n",
    "\n",
    "            if value == -1:\n",
    "                ax.add_patch(plt.Rectangle((j, grid.shape[0]-1-i), 1, 1, color='white'))\n",
    "                ax.text(j+0.5, grid.shape[0]-1-i+0.5, 'B', ha='center', va='center', color='black', fontsize=20)\n",
    "\n",
    "        for coord in path:\n",
    "            if coord[0] == i:\n",
    "                ax.scatter(coord[1]+0.5, grid.shape[0]-1-i+0.5, color='black', s=50)\n",
    "\n",
    "    x, y = zip(*path)\n",
    "    ax.plot([y_i+0.5 for y_i in y], [grid.shape[0]-1-x_i+0.5 for x_i in x], linewidth=3, color='black')\n",
    "\n",
    "    ax.set_xlim(0, grid.shape[1])\n",
    "    ax.set_ylim(0, grid.shape[0])\n",
    "    ax.set_aspect('equal')\n",
    "\n",
    "    ax.set_xticks([])\n",
    "    ax.set_yticks([])\n",
    "    ax.axis('off')\n",
    "\n",
    "    plt.show()\n"
   ]
  },
  {
   "cell_type": "code",
   "execution_count": 6,
   "metadata": {},
   "outputs": [
    {
     "data": {
      "image/png": "[encoded data removed]",
      "text/plain": [
       "<Figure size 576x576 with 1 Axes>"
      ]
     },
     "metadata": {},
     "output_type": "display_data"
    },
    {
     "data": {
      "image/png": "[encoded data removed]",
      "text/plain": [
       "<Figure size 576x576 with 1 Axes>"
      ]
     },
     "metadata": {},
     "output_type": "display_data"
    },
    {
     "data": {
      "image/png": "[encoded data removed]",
      "text/plain": [
       "<Figure size 576x576 with 1 Axes>"
      ]
     },
     "metadata": {},
     "output_type": "display_data"
    }
   ],
   "source": [
    "import numpy as np\n",
    "import matplotlib.pyplot as plt\n",
    "\n",
    "grid = np.array([[4, 2, 2, 2, 2, 2, 3, 2, 2, 2, 2, 2, 3, 2, 2, 2, 2, 2, 4],\n",
    "        [2, -1, -1, -1, -1, -1, 2, -1, -1, -1, -1, -1, 2, -1, -1, -1, -1, -1, 2],\n",
    "        [4, 1, 1, 1, 1, 1, 3, 1, 1, 1, 1, 1, 3, 1, 1, 1, 1, 1, 4],\n",
    "        [2, -1, -1, -1, -1, -1, 2, -1, -1, -1, -1, -1, 2, -1, -1, -1, -1, -1, 2],\n",
    "        [4, 1, 1, 1, 1, 1, 3, 1, 1, 1, 1, 1, 3, 1, 1, 1, 1, 1, 4],\n",
    "        [2, -1, -1, -1, -1, -1, 2, -1, -1, -1, -1, -1, 2, -1, -1, -1, -1, -1, 2],\n",
    "        [4, 1, 1, 1, 1, 1, 3, 1, 1, 1, 1, 1, 3, 1, 1, 1, 1, 1, 4],\n",
    "        [2, -1, -1, -1, -1, -1, 2, -1, -1, -1, -1, -1, 2, -1, -1, -1, -1, -1, 2],\n",
    "        [4, 2, 2, 2, 2, 2, 3, 2, 2, 2, 2, 2 ,3, 2, 2, 2, 2, 2, 4]])\n",
    "\n",
    "colors = {\n",
    "    1: 'lightblue',\n",
    "    2: 'lavender',\n",
    "    3: 'lightgreen',\n",
    "    4: 'lightsalmon'\n",
    "}\n",
    "\n",
    "route = [[(0, 9), (0, 8), (0, 7), (0, 6), (1, 6), (2, 6), (3, 6), (4, 6), (5, 6), (6, 6), (6, 5), (6, 4), (6, 3)],\n",
    "         [(8, 3), (8, 4), (8, 5), (8, 6), (8, 7), (8, 8), (8, 9), (8, 10), (8, 11), (8, 12), (7, 12), (6, 12), (5, 12), (4, 12), (3, 12), (2, 12), (1, 12), (0, 12), (0, 13), (0, 14), (0, 15)],\n",
    "         [(6, 3), (6, 2), (6, 1), (6, 0), (7, 0), (8, 0), (8, 1), (8, 2), (8, 3), (8, 4), (8, 5), (8, 6), (8, 7), (8, 8), (8, 9), (8, 10), (8, 11), (8, 12), (8, 13), (8, 14), (8, 15), (8, 16), (8, 17), (8, 18), (7, 18), (6, 18), (5, 18), (4, 18), (3, 18), (2, 18), (2, 17), (2, 16), (2, 15)]]\n",
    "\n",
    "for path in route:\n",
    "    fig, ax = plt.subplots(figsize=(8, 8))\n",
    "\n",
    "    for i in range(grid.shape[0]):\n",
    "        for j in range(grid.shape[1]):\n",
    "            value = grid[i][j]\n",
    "            color = colors.get(value, 'white')\n",
    "            ax.add_patch(plt.Rectangle((j, grid.shape[0]-1-i), 1, 1, color=color))\n",
    "\n",
    "            if value == -1:\n",
    "                ax.add_patch(plt.Rectangle((j, grid.shape[0]-1-i), 1, 1, color='white'))\n",
    "                ax.text(j+0.5, grid.shape[0]-1-i+0.5, 'B', ha='center', va='center', color='black', fontsize=20)\n",
    "\n",
    "        for coord in path:\n",
    "            if coord[0] == i:\n",
    "                ax.scatter(coord[1]+0.5, grid.shape[0]-1-i+0.5, color='black', s=50)\n",
    "\n",
    "    x, y = zip(*path)\n",
    "    ax.plot([y_i+0.5 for y_i in y], [grid.shape[0]-1-x_i+0.5 for x_i in x], linewidth=3, color='black')\n",
    "\n",
    "    ax.set_xlim(0, grid.shape[1])\n",
    "    ax.set_ylim(0, grid.shape[0])\n",
    "    ax.set_aspect('equal')\n",
    "\n",
    "    ax.set_xticks([])\n",
    "    ax.set_yticks([])\n",
    "    ax.axis('off')\n",
    "\n",
    "    plt.show()\n"
   ]
  },
  {
   "cell_type": "code",
   "execution_count": 15,
   "metadata": {},
   "outputs": [
    {
     "data": {
      "image/png": "[encoded data removed]",
      "text/plain": [
       "<Figure size 576x576 with 1 Axes>"
      ]
     },
     "metadata": {},
     "output_type": "display_data"
    }
   ],
   "source": [
    "import numpy as np\n",
    "import matplotlib.pyplot as plt\n",
    "\n",
    "grid = np.array([[4, 2, 3, 2, 3, 2, 4],\n",
    "                 [2, -1, 2, -1, 2, -1, 2],\n",
    "                 [4, 1, 3, 1, 3, 1, 4],\n",
    "                 [2, -1, 2, -1, 2, -1, 2],\n",
    "                 [4, 1, 3, 1, 3, 1, 4],\n",
    "                 [2, -1, 2, -1, 2, -1, 2],\n",
    "                 [4, 1, 3, 1, 3, 1, 4],\n",
    "                 [2, -1, 2, -1, 2, -1, 2],\n",
    "                 [4, 2, 3, 2, 3, 2, 4]])\n",
    "\n",
    "colors = {1: 'lightblue',\n",
    "          2: 'lavender',\n",
    "          3: 'lightgreen',\n",
    "          4: 'lightsalmon'}\n",
    "\n",
    "routes = [[(0, 6), (1, 6), (2, 6), (3, 6), (4, 6), (4, 5), (4, 4), (3, 4), (2, 4), (1, 4), (0, 4)],\n",
    "          [(0, 6), (1, 6), (2, 6), (2, 5), (2, 4), (1, 4), (0, 4)],\n",
    "          [(0, 6), (0, 5), (0, 4)]]\n",
    "\n",
    "fig, ax = plt.subplots(figsize=(8, 8))\n",
    "\n",
    "for i in range(grid.shape[0]):\n",
    "    for j in range(grid.shape[1]):\n",
    "        value = grid[i][j]\n",
    "        color = colors.get(value, 'white')\n",
    "        ax.add_patch(plt.Rectangle((j, grid.shape[0]-1-i), 1, 1, color=color))\n",
    "\n",
    "        if value == -1:\n",
    "            ax.add_patch(plt.Rectangle((j, grid.shape[0]-1-i), 1, 1, color='white'))\n",
    "            ax.text(j+0.5, grid.shape[0]-1-i+0.5, 'B', ha='center', va='center', color='black', fontsize=20)\n",
    "\n",
    "for idx, route in enumerate(routes):\n",
    "    x, y = zip(*route)\n",
    "    ax.plot([y_i+0.5 for y_i in y], [grid.shape[0]-1-x_i+0.5 for x_i in x], linewidth=3, color=list(colors.values())[idx])\n",
    "\n",
    "    for coord in route:\n",
    "        ax.scatter(coord[1]+0.5, grid.shape[0]-1-coord[0]+0.5, color=list(colors.values())[idx], s=50)\n",
    "\n",
    "ax.set_xlim(0, grid.shape[1])\n",
    "ax.set_ylim(0, grid.shape[0])\n",
    "ax.set_aspect('equal')\n",
    "\n",
    "ax.set_xticks([])\n",
    "ax.set_yticks([])\n",
    "ax.axis('off')\n",
    "\n",
    "plt.show()\n"
   ]
  },
  {
   "cell_type": "code",
   "execution_count": 16,
   "metadata": {},
   "outputs": [
    {
     "data": {
      "image/png": "[encoded data removed]",
      "text/plain": [
       "<Figure size 576x576 with 1 Axes>"
      ]
     },
     "metadata": {},
     "output_type": "display_data"
    }
   ],
   "source": [
    "import numpy as np\n",
    "import matplotlib.pyplot as plt\n",
    "\n",
    "grid = np.array([[4, 2, 3, 2, 3, 2, 4],\n",
    "                 [2, -1, 2, -1, 2, -1, 2],\n",
    "                 [4, 1, 3, 1, 3, 1, 4],\n",
    "                 [2, -1, 2, -1, 2, -1, 2],\n",
    "                 [4, 1, 3, 1, 3, 1, 4],\n",
    "                 [2, -1, 2, -1, 2, -1, 2],\n",
    "                 [4, 1, 3, 1, 3, 1, 4],\n",
    "                 [2, -1, 2, -1, 2, -1, 2],\n",
    "                 [4, 2, 3, 2, 3, 2, 4]])\n",
    "\n",
    "colors = {1: 'lightblue',\n",
    "          2: 'lavender',\n",
    "          3: 'lightgreen',\n",
    "          4: 'lightsalmon'}\n",
    "\n",
    "routes = [[(0, 6), (1, 6), (2, 6), (3, 6), (4, 6), (4, 5), (4, 4), (3, 4), (2, 4), (1, 4), (0, 4)],\n",
    "          [(0, 6), (1, 6), (2, 6), (2, 5), (2, 4), (1, 4), (0, 4)],\n",
    "          [(0, 6), (0, 5), (0, 4)]]\n",
    "\n",
    "fig, ax = plt.subplots(figsize=(8, 8))\n",
    "\n",
    "for i in range(grid.shape[0]):\n",
    "    for j in range(grid.shape[1]):\n",
    "        value = grid[i][j]\n",
    "        color = colors.get(value, 'white')\n",
    "        ax.add_patch(plt.Rectangle((j, grid.shape[0]-1-i), 1, 1, color=color))\n",
    "\n",
    "        if value == -1:\n",
    "            ax.add_patch(plt.Rectangle((j, grid.shape[0]-1-i), 1, 1, color='white'))\n",
    "            ax.text(j+0.5, grid.shape[0]-1-i+0.5, 'B', ha='center', va='center', color='black', fontsize=20)\n",
    "\n",
    "for idx, route in enumerate(routes):\n",
    "    x, y = zip(*route)\n",
    "    ax.plot([y_i+0.5 for y_i in y], [grid.shape[0]-1-x_i+0.5 for x_i in x], linewidth=5, color=list(colors.values())[idx], alpha=0.8, zorder=2)\n",
    "\n",
    "    for coord in route:\n",
    "        ax.scatter(coord[1]+0.5, grid.shape[0]-1-coord[0]+0.5, color=list(colors.values())[idx], s=150, edgecolors='black', linewidths=2, zorder=3)\n",
    "\n",
    "ax.set_xlim(0, grid.shape[1])\n",
    "ax.set_ylim(0, grid.shape[0])\n",
    "ax.set_aspect('equal')\n",
    "\n",
    "ax.set_xticks([])\n",
    "ax.set_yticks([])\n",
    "ax.axis('off')\n",
    "\n",
    "plt.show()\n"
   ]
  },
  {
   "cell_type": "code",
   "execution_count": 16,
   "metadata": {},
   "outputs": [
    {
     "data": {
      "image/png": "[encoded data removed]",
      "text/plain": [
       "<Figure size 432x288 with 2 Axes>"
      ]
     },
     "metadata": {
      "needs_background": "light"
     },
     "output_type": "display_data"
    }
   ],
   "source": [
    "import numpy as np\n",
    "import matplotlib.pyplot as plt\n",
    "\n",
    "# a1 : 0.333 a2 : 0.333 a3 : 0.333\n",
    "now_count = np.array([[441, 441, 441, 646, 541, 541, 736, 446, 446, 467, 437, 437, 624, 358,\n",
    "                       358, 389, 190, 190, 190],\n",
    "                      [441, 0, 0, 0, 0, 0, 485, 0, 0, 0, 0, 0, 453, 0, 0, 0, 0, 0, 190],\n",
    "                      [593, 332, 332, 418, 203, 203, 813, 300, 300, 406, 320, 320,\n",
    "                       776, 249, 249, 469, 219, 219, 288],\n",
    "                      [413, 0, 0, 0, 0, 0, 638, 0, 0, 0, 0, 0, 530, 0, 0, 0, 0, 0, 167],\n",
    "                      [513, 183, 183, 443, 383, 383, 987, 332, 332, 534, 343, 343,\n",
    "                       780, 188, 188, 303, 122, 122, 238],\n",
    "                      [430, 0, 0, 0, 0, 0, 621, 0, 0, 0, 0, 0, 499, 0, 0, 0, 0, 0, 187],\n",
    "                      [539, 236, 236, 425, 266, 266, 857, 251, 251, 358, 273, 273,\n",
    "                       666, 151, 151, 157, 14, 14, 199],\n",
    "                      [412, 0, 0, 0, 0, 0, 576, 0, 0, 0, 0, 0, 409, 0, 0, 0, 0, 0, 197],\n",
    "                      [412, 412, 412, 512, 457, 457, 792, 551, 551, 682, 448, 448,\n",
    "                       555, 253, 253, 275, 197, 197, 197]])\n",
    "\n",
    "plt.imshow(now_count, cmap='Blues', interpolation='nearest')\n",
    "plt.colorbar(label='Count')\n",
    "plt.xlabel('Column')\n",
    "plt.ylabel('Row')\n",
    "plt.show()\n"
   ]
  },
  {
   "cell_type": "code",
   "execution_count": 17,
   "metadata": {},
   "outputs": [
    {
     "data": {
      "image/png": "[encoded data removed]",
      "text/plain": [
       "<Figure size 432x288 with 2 Axes>"
      ]
     },
     "metadata": {
      "needs_background": "light"
     },
     "output_type": "display_data"
    }
   ],
   "source": [
    "import numpy as np\n",
    "import matplotlib.pyplot as plt\n",
    "\n",
    "# a_1 : 0, a_2 : 0, a_3 : 1\n",
    "now_count = np.array([[397, 397, 397, 612, 517, 517, 724, 423, 423, 444, 414, 414,\n",
    "                       633, 383, 383, 404, 195, 195, 195],\n",
    "                      [397, 0, 0, 0, 0, 0, 508, 0, 0, 0, 0, 0, 469, 0, 0, 0, 0, 0, 195],\n",
    "                      [533, 303, 303, 389, 174, 174, 800, 259, 259, 365, 279, 279,\n",
    "                       786, 244, 244, 464, 214, 214, 278],\n",
    "                      [366, 0, 0, 0, 0, 0, 659, 0, 0, 0, 0, 0, 580, 0, 0, 0, 0, 0, 147],\n",
    "                      [452, 155, 155, 415, 355, 355, 1046, 383, 383, 585, 394, 394,\n",
    "                       843, 177, 177, 292, 111, 111, 203],\n",
    "                      [383, 0, 0, 0, 0, 0, 695, 0, 0, 0, 0, 0, 535, 0, 0, 0, 0, 0, 148],\n",
    "                      [527, 257, 257, 446, 287, 287, 921, 254, 254, 361, 276, 276,\n",
    "                       702, 161, 161, 167, 24, 24, 169],\n",
    "                      [414, 0, 0, 0, 0, 0, 606, 0, 0, 0, 0, 0, 432, 0, 0, 0, 0, 0, 166],\n",
    "                      [414, 414, 414, 522, 475, 475, 830, 579, 579, 710, 476, 476,\n",
    "                       571, 234, 234, 250, 166, 166, 166]])\n",
    "\n",
    "plt.imshow(now_count, cmap='Blues', interpolation='nearest')\n",
    "plt.colorbar(label='Count')\n",
    "plt.xlabel('Column')\n",
    "plt.ylabel('Row')\n",
    "plt.show()\n"
   ]
  },
  {
   "cell_type": "code",
   "execution_count": 26,
   "metadata": {},
   "outputs": [
    {
     "data": {
      "image/png": "[encoded data removed]",
      "text/plain": [
       "<Figure size 432x288 with 1 Axes>"
      ]
     },
     "metadata": {
      "needs_background": "light"
     },
     "output_type": "display_data"
    }
   ],
   "source": [
    "import numpy as np\n",
    "import matplotlib.pyplot as plt\n",
    "\n",
    "# a1:0, a2:0, a3:1, 위치 랜덤\n",
    "now_count = [\n",
    "    [269., 269., 310., 341., 334., 334., 675., 470., 470., 492., 479., 445., 633., 385., 385., 385., 385., 389., 339.],\n",
    "    [269., 0., 0., 0., 0., 0., 588., 0., 0., 0., 0., 0., 472., 0., 0., 0., 0., 0., 412.],\n",
    "    [395., 226., 223., 223., 223., 223., 824., 174., 283., 236., 192., 192., 628., 95., 95., 207., 160., 160., 461.],\n",
    "    [388., 0., 0., 0., 0., 0., 724., 0., 0., 0., 0., 0., 485., 0., 0., 0., 0., 0., 377.],\n",
    "    [553., 294., 296., 338., 376., 373., 1028., 186., 186., 297., 294., 294., 717., 119., 78., 193., 190., 307., 506.],\n",
    "    [388., 0., 0., 0., 0., 0., 700., 0., 0., 0., 0., 0., 508., 0., 0., 0., 0., 0., 347.],\n",
    "    [507., 233., 181., 267., 351., 348., 979., 353., 273., 234., 197., 155., 588., 159., 114., 227., 227., 184., 461.],\n",
    "    [445., 0., 0., 0., 0., 0., 474., 0., 0., 0., 0., 0., 383., 0., 0., 0., 0., 0., 333.],\n",
    "    [406., 391., 450., 444., 437., 437., 706., 451., 451., 451., 484., 436., 589., 359., 359., 373., 333., 333., 333.]\n",
    "]\n",
    "plt.imshow(now_count, cmap='Blues', interpolation='nearest')\n",
    "# plt.colorbar(label='Count')\n",
    "# plt.xlabel('Column')\n",
    "# plt.ylabel('Row')\n",
    "plt.show()\n"
   ]
  },
  {
   "cell_type": "code",
   "execution_count": 27,
   "metadata": {},
   "outputs": [
    {
     "data": {
      "image/png": "[encoded data removed]",
      "text/plain": [
       "<Figure size 432x288 with 1 Axes>"
      ]
     },
     "metadata": {
      "needs_background": "light"
     },
     "output_type": "display_data"
    }
   ],
   "source": [
    "import numpy as np\n",
    "import matplotlib.pyplot as plt\n",
    "\n",
    "now_count = [\n",
    "    [346., 346., 387., 418., 411., 411., 729., 523., 523., 545., 532., 498., 641., 384., 384., 384., 384., 388., 338.],\n",
    "    [346., 0., 0., 0., 0., 0., 562., 0., 0., 0., 0., 0., 433., 0., 0., 0., 0., 0., 417.],\n",
    "    [503., 268., 265., 265., 265., 265., 809., 193., 302., 255., 211., 211., 584., 95., 95., 207., 160., 160., 482.],\n",
    "    [485., 0., 0., 0., 0., 0., 663., 0., 0., 0., 0., 0., 420., 0., 0., 0., 0., 0., 408.],\n",
    "    [657., 344., 346., 388., 426., 423., 951., 152., 152., 263., 260., 260., 642., 120., 79., 194., 191., 308., 534.],\n",
    "    [449., 0., 0., 0., 0., 0., 591., 0., 0., 0., 0., 0., 456., 0., 0., 0., 0., 0., 371.],\n",
    "    [531., 203., 151., 237., 321., 318., 888., 376., 296., 257., 220., 178., 551., 157., 112., 225., 225., 182., 478.],\n",
    "    [460., 0., 0., 0., 0., 0., 408., 0., 0., 0., 0., 0., 340., 0., 0., 0., 0., 0., 345.],\n",
    "    [413., 392., 433., 409., 402., 402., 617., 374., 374., 374., 407., 359., 534., 369., 369., 384., 345., 345., 345.]\n",
    "]\n",
    "plt.imshow(now_count, cmap='Blues', interpolation='nearest')\n",
    "# plt.colorbar(label='Count')\n",
    "# plt.xlabel('Column')\n",
    "# plt.ylabel('Row')\n",
    "plt.show()"
   ]
  },
  {
   "cell_type": "code",
   "execution_count": 29,
   "metadata": {},
   "outputs": [
    {
     "data": {
      "image/png": "[encoded data removed]",
      "text/plain": [
       "<Figure size 432x288 with 1 Axes>"
      ]
     },
     "metadata": {
      "needs_background": "light"
     },
     "output_type": "display_data"
    }
   ],
   "source": [
    "import numpy as np\n",
    "import matplotlib.pyplot as plt\n",
    "\n",
    "now_count = np.array([\n",
    "    [346., 346., 387., 418., 411., 411., 729., 523., 523., 545., 532., 498., 641., 384., 384., 384., 384., 388., 338.],\n",
    "    [346., 0., 0., 0., 0., 0., 562., 0., 0., 0., 0., 0., 433., 0., 0., 0., 0., 0., 417.],\n",
    "    [503., 268., 265., 265., 265., 265., 809., 193., 302., 255., 211., 211., 584., 95., 95., 207., 160., 160., 482.],\n",
    "    [485., 0., 0., 0., 0., 0., 663., 0., 0., 0., 0., 0., 420., 0., 0., 0., 0., 0., 408.],\n",
    "    [657., 344., 346., 388., 426., 423., 951., 152., 152., 263., 260., 260., 642., 120., 79., 194., 191., 308., 534.],\n",
    "    [449., 0., 0., 0., 0., 0., 591., 0., 0., 0., 0., 0., 456., 0., 0., 0., 0., 0., 371.],\n",
    "    [531., 203., 151., 237., 321., 318., 888., 376., 296., 257., 220., 178., 551., 157., 112., 225., 225., 182., 478.],\n",
    "    [460., 0., 0., 0., 0., 0., 408., 0., 0., 0., 0., 0., 340., 0., 0., 0., 0., 0., 345.],\n",
    "    [413., 392., 433., 409., 402., 402., 617., 374., 374., 374., 407., 359., 534., 369., 369., 384., 345., 345., 345.]\n",
    "])\n",
    "\n",
    "plt.imshow(now_count, cmap='Blues', interpolation='nearest')\n",
    "# plt.colorbar(label='Count')\n",
    "# plt.xlabel('Column')\n",
    "# plt.ylabel('Row')\n",
    "plt.show()\n"
   ]
  },
  {
   "cell_type": "code",
   "execution_count": 30,
   "metadata": {},
   "outputs": [
    {
     "data": {
      "image/png": "[encoded data removed]",
      "text/plain": [
       "<Figure size 432x288 with 1 Axes>"
      ]
     },
     "metadata": {
      "needs_background": "light"
     },
     "output_type": "display_data"
    }
   ],
   "source": [
    "import numpy as np\n",
    "import matplotlib.pyplot as plt\n",
    "\n",
    "# 0 1 0 \n",
    "now_count = np.array([\n",
    "    [413., 413., 455., 488., 482., 482., 728., 505., 505., 528., 517., 484., 735., 475., 475., 475., 475., 480., 431.],\n",
    "    [413., 0., 0., 0., 0., 0., 517., 0., 0., 0., 0., 0., 551., 0., 0., 0., 0., 0., 471.],\n",
    "    [588., 318., 315., 315., 315., 315., 868., 194., 303., 256., 212., 212., 735., 105., 105., 217., 170., 170., 513.],\n",
    "    [544., 0., 0., 0., 0., 0., 765., 0., 0., 0., 0., 0., 586., 0., 0., 0., 0., 0., 447.],\n",
    "    [778., 384., 386., 428., 466., 463., 1146., 179., 179., 290., 287., 287., 820., 113., 72., 187., 184., 301., 563.],\n",
    "    [586., 0., 0., 0., 0., 0., 812., 0., 0., 0., 0., 0., 626., 0., 0., 0., 0., 0., 395.],\n",
    "    [728., 313., 261., 347., 431., 428., 1161., 453., 373., 334., 297., 255., 749., 266., 221., 334., 334., 291., 672.],\n",
    "    [636., 0., 0., 0., 0., 0., 546., 0., 0., 0., 0., 0., 380., 0., 0., 0., 0., 0., 600.],\n",
    "    [628., 617., 673., 664., 657., 657., 1007., 761., 761., 761., 790., 738., 870., 622., 622., 638., 600., 600., 600.]\n",
    "])\n",
    "\n",
    "plt.imshow(now_count, cmap='Blues', interpolation='nearest')\n",
    "# plt.colorbar(label='Count')\n",
    "# plt.xlabel('Column')\n",
    "# plt.ylabel('Row')\n",
    "plt.show()\n"
   ]
  },
  {
   "cell_type": "code",
   "execution_count": 31,
   "metadata": {},
   "outputs": [
    {
     "data": {
      "image/png": "[encoded data removed]",
      "text/plain": [
       "<Figure size 432x288 with 1 Axes>"
      ]
     },
     "metadata": {
      "needs_background": "light"
     },
     "output_type": "display_data"
    }
   ],
   "source": [
    "import numpy as np\n",
    "import matplotlib.pyplot as plt\n",
    "\n",
    "# 1 0 0\n",
    "now_count = np.array([\n",
    "    [346., 346., 387., 418., 411., 411., 729., 523., 523., 545., 532., 498., 641., 384., 384., 384., 384., 388., 338.],\n",
    "    [346., 0., 0., 0., 0., 0., 562., 0., 0., 0., 0., 0., 433., 0., 0., 0., 0., 0., 417.],\n",
    "    [503., 268., 265., 265., 265., 265., 809., 193., 302., 255., 211., 211., 584., 95., 95., 207., 160., 160., 482.],\n",
    "    [485., 0., 0., 0., 0., 0., 663., 0., 0., 0., 0., 0., 420., 0., 0., 0., 0., 0., 408.],\n",
    "    [657., 344., 346., 388., 426., 423., 951., 152., 152., 263., 260., 260., 642., 120., 79., 194., 191., 308., 534.],\n",
    "    [449., 0., 0., 0., 0., 0., 591., 0., 0., 0., 0., 0., 456., 0., 0., 0., 0., 0., 371.],\n",
    "    [531., 203., 151., 237., 321., 318., 888., 376., 296., 257., 220., 178., 551., 157., 112., 225., 225., 182., 478.],\n",
    "    [460., 0., 0., 0., 0., 0., 408., 0., 0., 0., 0., 0., 340., 0., 0., 0., 0., 0., 345.],\n",
    "    [413., 392., 433., 409., 402., 402., 617., 374., 374., 374., 407., 359., 534., 369., 369., 384., 345., 345., 345.]\n",
    "])\n",
    "\n",
    "plt.imshow(now_count, cmap='Blues', interpolation='nearest')\n",
    "# plt.colorbar(label='Count')\n",
    "# plt.xlabel('Column')\n",
    "# plt.ylabel('Row')\n",
    "plt.show()\n"
   ]
  },
  {
   "cell_type": "code",
   "execution_count": 1,
   "metadata": {},
   "outputs": [
    {
     "data": {
      "image/png": "[encoded data removed]",
      "text/plain": [
       "<Figure size 432x288 with 1 Axes>"
      ]
     },
     "metadata": {
      "needs_background": "light"
     },
     "output_type": "display_data"
    }
   ],
   "source": [
    "import numpy as np\n",
    "import matplotlib.pyplot as plt\n",
    "\n",
    "# 1 0 0\n",
    "now_count = np.array([\n",
    "    [3846, 3952, 3952, 4755, 4447, 4447, 6271, 4906, 4906, 5085, 4867, 4867,6301, 3454, 3454, 3553, 3061, 2887, 3514],\n",
    "    [3797,    0,    0,    0,    0,    0, 3358,    0,    0,    0,    0,    0,4281,    0,    0,    0,    0,    0, 3504],\n",
    "    [4652, 2400, 2400, 2886, 1793, 1793, 5877, 1456, 1456, 2512, 2228, 2228,6119,  742,  742, 1771, 1607, 1607, 3949],\n",
    "    [3111,    0,    0,    0,    0,    0, 5151,    0,    0,    0,    0,    0,4653,    0,    0,    0,    0,    0, 2791],\n",
    "    [4317, 2453, 2453, 2228, 1328, 1328, 6865, 1850, 1699, 3296, 2817, 2817,6416,  540,  540, 2244, 2234, 2234, 3811],\n",
    "    [3070,    0,    0,    0,    0,    0, 5401,    0,    0,    0,    0,    0,4822,    0,    0,    0,    0,    0, 2597],\n",
    "    [4292, 1946, 1946, 2149, 1928, 1928, 6390, 2274, 2274, 3269, 2448, 2448,6373, 1179, 1179, 2989, 2470, 2470, 4127],\n",
    "    [3568,    0,    0,    0,    0,    0, 3177,    0,    0,    0,    0,    0,4297,    0,    0,    0,    0,    0, 3190],\n",
    "    [3568, 3568, 3568, 4367, 4108, 4108, 6081, 4877, 4877, 4935, 4869, 4813,6512, 4018, 3782, 3847, 3502, 3146, 2968]])\n",
    "\n",
    "plt.imshow(now_count, cmap='Blues', interpolation='nearest')\n",
    "# plt.colorbar(label='Count')\n",
    "# plt.xlabel('Column')\n",
    "# plt.ylabel('Row')\n",
    "plt.show()\n",
    "\n"
   ]
  },
  {
   "cell_type": "code",
   "execution_count": 4,
   "metadata": {},
   "outputs": [
    {
     "data": {
      "image/png": "[encoded data removed]",
      "text/plain": [
       "<Figure size 432x288 with 1 Axes>"
      ]
     },
     "metadata": {
      "needs_background": "light"
     },
     "output_type": "display_data"
    }
   ],
   "source": [
    "import numpy as np\n",
    "import matplotlib.pyplot as plt\n",
    "\n",
    "# 1 0 0\n",
    "now_count = np.array([[3846, 3952, 3952, 4755, 4447, 4447, 6271, 4906, 4906, 5085, 4867, 4867,\n",
    "  6301, 3454, 3454, 3553, 3061, 2887, 3514],\n",
    " [3797,    0,    0,    0,    0,    0, 3358,    0,    0,    0,    0,    0,\n",
    "  4281,    0,    0,    0,    0,    0, 3504],\n",
    " [4652, 2400, 2400, 2886, 1793, 1793, 5877, 1456, 1456, 2512, 2228, 2228,\n",
    "  6119,  742,  742, 1771, 1607, 1607, 3949],\n",
    " [3111,    0,    0,    0,    0,    0, 5151,    0,    0,    0,    0,    0,\n",
    "  4653,    0,    0,    0,    0,    0, 2791],\n",
    " [4317, 2453, 2453, 2228, 1328, 1328, 6865, 1850, 1699, 3296, 2817, 2817,\n",
    "  6416,  540,  540, 2244, 2234, 2234, 3811],\n",
    " [3070,    0,    0,    0,    0,    0, 5401,    0,    0,    0,    0,    0,\n",
    "  4822,    0,    0,    0,    0,    0, 2597],\n",
    " [4292, 1946, 1946, 2149, 1928, 1928, 6390, 2274, 2274, 3269, 2448, 2448,\n",
    "  6373, 1179, 1179, 2989, 2470, 2470, 4127],\n",
    " [3568,    0,    0,    0,    0,    0, 3177,    0,    0,    0,    0,    0,\n",
    "  4297,    0,    0,    0,    0,    0, 319],\n",
    " [3568, 3568, 3568, 4367, 4108, 4108, 6081, 4877, 4877, 4935, 4869, 4813,\n",
    "  6512, 4018, 3782, 3847, 3502, 3146, 2968]])\n",
    "\n",
    "plt.imshow(now_count, cmap='Blues', interpolation='nearest')\n",
    "# plt.colorbar(label='Count')\n",
    "# plt.xlabel('Column')\n",
    "# plt.ylabel('Row')\n",
    "plt.show()\n",
    "\n"
   ]
  },
  {
   "cell_type": "code",
   "execution_count": 3,
   "metadata": {},
   "outputs": [
    {
     "data": {
      "image/png": "[encoded data removed]",
      "text/plain": [
       "<Figure size 432x288 with 1 Axes>"
      ]
     },
     "metadata": {
      "needs_background": "light"
     },
     "output_type": "display_data"
    }
   ],
   "source": [
    "import numpy as np\n",
    "import matplotlib.pyplot as plt\n",
    "\n",
    "# 1 0 0\n",
    "now_count = np.array([[4208, 4337, 4337, 5044, 4640, 4640, 6334, 5307, 5307, 5477, 5250, 5250,\n",
    "  6498, 3767, 3767, 3918, 3478, 3304, 4114],\n",
    " [4136,    0,    0,    0,    0,    0, 2890,    0,    0,    0,    0,    0,\n",
    "  3979,    0,    0,    0,    0,    0, 4287],\n",
    " [5275, 2848, 2848, 3334, 2241, 2241, 5911, 1547, 1547, 2603, 2319, 2319,\n",
    "  6142,  923,  923, 1952, 1788, 1788, 4700],\n",
    " [3570,    0,    0,    0,    0,    0, 5148,    0,    0,    0,    0,    0,\n",
    "  4729,    0,    0,    0,    0,    0, 3329],\n",
    " [5164, 2784, 2784, 2559, 1659, 1659, 7257, 2012, 1861, 3458, 2979, 2979,\n",
    "  6840,  811,  811, 2515, 2505, 2505, 4377],\n",
    " [3974,    0,    0,    0,    0,    0, 5695,    0,    0,    0,    0,    0,\n",
    "  5161,    0,    0,    0,    0,    0, 2920],\n",
    " [5363, 2346, 2346, 2549, 2328, 2328, 6837, 2783, 2783, 3778, 2957, 2957,\n",
    "  6992, 1514, 1514, 3324, 2805, 2805, 4754],\n",
    " [4406,    0,    0,    0,    0,    0, 2868,    0,    0,    0,    0,    0,\n",
    "  4352,    0,    0,    0,    0,    0, 3786],\n",
    " [4406, 4406, 4406, 5167, 4870, 4870, 6554, 5370, 5370, 5425, 5356, 5300,\n",
    "  7041, 4534, 4298, 4403, 4098, 3742, 3564]])\n",
    "\n",
    "plt.imshow(now_count, cmap='Blues', interpolation='nearest')\n",
    "# plt.colorbar(label='Count')\n",
    "# plt.xlabel('Column')\n",
    "# plt.ylabel('Row')\n",
    "plt.show()\n"
   ]
  }
 ],
 "metadata": {
  "kernelspec": {
   "display_name": "hyeooi",
   "language": "python",
   "name": "python3"
  },
  "language_info": {
   "codemirror_mode": {
    "name": "ipython",
    "version": 3
   },
   "file_extension": ".py",
   "mimetype": "text/x-python",
   "name": "python",
   "nbconvert_exporter": "python",
   "pygments_lexer": "ipython3",
   "version": "3.9.12"
  },
  "orig_nbformat": 4
 },
 "nbformat": 4,
 "nbformat_minor": 2
}
